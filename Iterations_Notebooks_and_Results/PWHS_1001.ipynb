{
  "cells": [
    {
      "cell_type": "markdown",
      "metadata": {
        "id": "view-in-github",
        "colab_type": "text"
      },
      "source": [
        "<a href=\"https://colab.research.google.com/github/vahadruya/Capstone_Regression_NYC_Taxi_Trip_Duration_Prediction/blob/main/Iterations_Notebooks_and_Results/PWHS_1001.ipynb\" target=\"_parent\"><img src=\"https://colab.research.google.com/assets/colab-badge.svg\" alt=\"Open In Colab\"/></a>"
      ]
    },
    {
      "cell_type": "markdown",
      "source": [
        "## Iteration 5 - In this notebook, the **passenger_count** and **store_and_fwd_flag** features have been included while **extreme_weather** and **holiday** features have been dropped."
      ],
      "metadata": {
        "id": "NpSt28jEbBqD"
      }
    },
    {
      "cell_type": "markdown",
      "metadata": {
        "id": "y6JICR7Urns9"
      },
      "source": [
        "## Initial"
      ]
    },
    {
      "cell_type": "code",
      "execution_count": null,
      "metadata": {
        "colab": {
          "base_uri": "https://localhost:8080/"
        },
        "id": "_JXGoOIiE-XJ",
        "outputId": "d30a4ae9-c1f1-42d3-c44e-b67c2b8a1d28"
      },
      "outputs": [
        {
          "name": "stdout",
          "output_type": "stream",
          "text": [
            "Drive already mounted at /content/drive; to attempt to forcibly remount, call drive.mount(\"/content/drive\", force_remount=True).\n"
          ]
        }
      ],
      "source": [
        "from google.colab import drive\n",
        "drive.mount('/content/drive')"
      ]
    },
    {
      "cell_type": "code",
      "execution_count": null,
      "metadata": {
        "id": "4uyfpr5NoeJx"
      },
      "outputs": [],
      "source": [
        "import pandas as pd\n",
        "import numpy as np\n",
        "import matplotlib.pyplot as plt\n",
        "import seaborn as sns"
      ]
    },
    {
      "cell_type": "code",
      "execution_count": null,
      "metadata": {
        "id": "ZIQPd4aV156r"
      },
      "outputs": [],
      "source": [
        "path = '/content/drive/MyDrive/ALMA BETTER/Module 4/#CAPSTONE 1 - REGRESSION/Input data/'\n",
        "df = pd.read_csv('NYC Taxi Data.csv', parse_dates = ['pickup_datetime', 'dropoff_datetime'])"
      ]
    },
    {
      "cell_type": "markdown",
      "metadata": {
        "id": "PEfl4wqFk0Sf"
      },
      "source": [
        "![image.png](data:image/png;base64,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)"
      ]
    },
    {
      "cell_type": "markdown",
      "metadata": {
        "id": "m4zM80lvk5B_"
      },
      "source": [
        "![image](https://ab-strapi-qa.s3.ap-south-1.amazonaws.com/Regression_NYC_Taxi_Trip_Time_Prediction_91a23744ad.png)"
      ]
    },
    {
      "cell_type": "code",
      "execution_count": null,
      "metadata": {
        "colab": {
          "base_uri": "https://localhost:8080/"
        },
        "id": "YLPEhBNVkukz",
        "outputId": "30f97d13-94fc-45e7-dd17-2d4c8fa4bdd9"
      },
      "outputs": [
        {
          "name": "stdout",
          "output_type": "stream",
          "text": [
            "<class 'pandas.core.frame.DataFrame'>\n",
            "RangeIndex: 1458644 entries, 0 to 1458643\n",
            "Data columns (total 11 columns):\n",
            " #   Column              Non-Null Count    Dtype         \n",
            "---  ------              --------------    -----         \n",
            " 0   id                  1458644 non-null  object        \n",
            " 1   vendor_id           1458644 non-null  int64         \n",
            " 2   pickup_datetime     1458644 non-null  datetime64[ns]\n",
            " 3   dropoff_datetime    1458644 non-null  datetime64[ns]\n",
            " 4   passenger_count     1458644 non-null  int64         \n",
            " 5   pickup_longitude    1458644 non-null  float64       \n",
            " 6   pickup_latitude     1458644 non-null  float64       \n",
            " 7   dropoff_longitude   1458644 non-null  float64       \n",
            " 8   dropoff_latitude    1458644 non-null  float64       \n",
            " 9   store_and_fwd_flag  1458644 non-null  object        \n",
            " 10  trip_duration       1458644 non-null  int64         \n",
            "dtypes: datetime64[ns](2), float64(4), int64(3), object(2)\n",
            "memory usage: 122.4+ MB\n"
          ]
        }
      ],
      "source": [
        "df.info()"
      ]
    },
    {
      "cell_type": "code",
      "execution_count": null,
      "metadata": {
        "colab": {
          "base_uri": "https://localhost:8080/"
        },
        "id": "GVaJvLRdlLpl",
        "outputId": "be74b6eb-a058-4f1a-f05a-4c21bf62024f"
      },
      "outputs": [
        {
          "data": {
            "text/html": [
              "<div>\n",
              "<style scoped>\n",
              "    .dataframe tbody tr th:only-of-type {\n",
              "        vertical-align: middle;\n",
              "    }\n",
              "\n",
              "    .dataframe tbody tr th {\n",
              "        vertical-align: top;\n",
              "    }\n",
              "\n",
              "    .dataframe thead th {\n",
              "        text-align: right;\n",
              "    }\n",
              "</style>\n",
              "<table border=\"1\" class=\"dataframe\">\n",
              "  <thead>\n",
              "    <tr style=\"text-align: right;\">\n",
              "      <th></th>\n",
              "      <th>id</th>\n",
              "      <th>vendor_id</th>\n",
              "      <th>pickup_datetime</th>\n",
              "      <th>dropoff_datetime</th>\n",
              "      <th>passenger_count</th>\n",
              "      <th>pickup_longitude</th>\n",
              "      <th>pickup_latitude</th>\n",
              "      <th>dropoff_longitude</th>\n",
              "      <th>dropoff_latitude</th>\n",
              "      <th>store_and_fwd_flag</th>\n",
              "      <th>trip_duration</th>\n",
              "    </tr>\n",
              "  </thead>\n",
              "  <tbody>\n",
              "    <tr>\n",
              "      <th>0</th>\n",
              "      <td>id2875421</td>\n",
              "      <td>2</td>\n",
              "      <td>2016-03-14 17:24:55</td>\n",
              "      <td>2016-03-14 17:32:30</td>\n",
              "      <td>1</td>\n",
              "      <td>-73.982155</td>\n",
              "      <td>40.767937</td>\n",
              "      <td>-73.964630</td>\n",
              "      <td>40.765602</td>\n",
              "      <td>N</td>\n",
              "      <td>455</td>\n",
              "    </tr>\n",
              "    <tr>\n",
              "      <th>1</th>\n",
              "      <td>id2377394</td>\n",
              "      <td>1</td>\n",
              "      <td>2016-06-12 00:43:35</td>\n",
              "      <td>2016-06-12 00:54:38</td>\n",
              "      <td>1</td>\n",
              "      <td>-73.980415</td>\n",
              "      <td>40.738564</td>\n",
              "      <td>-73.999481</td>\n",
              "      <td>40.731152</td>\n",
              "      <td>N</td>\n",
              "      <td>663</td>\n",
              "    </tr>\n",
              "    <tr>\n",
              "      <th>2</th>\n",
              "      <td>id3858529</td>\n",
              "      <td>2</td>\n",
              "      <td>2016-01-19 11:35:24</td>\n",
              "      <td>2016-01-19 12:10:48</td>\n",
              "      <td>1</td>\n",
              "      <td>-73.979027</td>\n",
              "      <td>40.763939</td>\n",
              "      <td>-74.005333</td>\n",
              "      <td>40.710087</td>\n",
              "      <td>N</td>\n",
              "      <td>2124</td>\n",
              "    </tr>\n",
              "    <tr>\n",
              "      <th>3</th>\n",
              "      <td>id3504673</td>\n",
              "      <td>2</td>\n",
              "      <td>2016-04-06 19:32:31</td>\n",
              "      <td>2016-04-06 19:39:40</td>\n",
              "      <td>1</td>\n",
              "      <td>-74.010040</td>\n",
              "      <td>40.719971</td>\n",
              "      <td>-74.012268</td>\n",
              "      <td>40.706718</td>\n",
              "      <td>N</td>\n",
              "      <td>429</td>\n",
              "    </tr>\n",
              "    <tr>\n",
              "      <th>4</th>\n",
              "      <td>id2181028</td>\n",
              "      <td>2</td>\n",
              "      <td>2016-03-26 13:30:55</td>\n",
              "      <td>2016-03-26 13:38:10</td>\n",
              "      <td>1</td>\n",
              "      <td>-73.973053</td>\n",
              "      <td>40.793209</td>\n",
              "      <td>-73.972923</td>\n",
              "      <td>40.782520</td>\n",
              "      <td>N</td>\n",
              "      <td>435</td>\n",
              "    </tr>\n",
              "  </tbody>\n",
              "</table>\n",
              "</div>"
            ],
            "text/plain": [
              "          id  vendor_id     pickup_datetime    dropoff_datetime  \\\n",
              "0  id2875421          2 2016-03-14 17:24:55 2016-03-14 17:32:30   \n",
              "1  id2377394          1 2016-06-12 00:43:35 2016-06-12 00:54:38   \n",
              "2  id3858529          2 2016-01-19 11:35:24 2016-01-19 12:10:48   \n",
              "3  id3504673          2 2016-04-06 19:32:31 2016-04-06 19:39:40   \n",
              "4  id2181028          2 2016-03-26 13:30:55 2016-03-26 13:38:10   \n",
              "\n",
              "   passenger_count  pickup_longitude  pickup_latitude  dropoff_longitude  \\\n",
              "0                1        -73.982155        40.767937         -73.964630   \n",
              "1                1        -73.980415        40.738564         -73.999481   \n",
              "2                1        -73.979027        40.763939         -74.005333   \n",
              "3                1        -74.010040        40.719971         -74.012268   \n",
              "4                1        -73.973053        40.793209         -73.972923   \n",
              "\n",
              "   dropoff_latitude store_and_fwd_flag  trip_duration  \n",
              "0         40.765602                  N            455  \n",
              "1         40.731152                  N            663  \n",
              "2         40.710087                  N           2124  \n",
              "3         40.706718                  N            429  \n",
              "4         40.782520                  N            435  "
            ]
          },
          "execution_count": 77,
          "metadata": {},
          "output_type": "execute_result"
        }
      ],
      "source": [
        "df.head()"
      ]
    },
    {
      "cell_type": "code",
      "execution_count": null,
      "metadata": {
        "id": "mA4iVg-vlMN-"
      },
      "outputs": [],
      "source": [
        "data = df.copy()"
      ]
    },
    {
      "cell_type": "markdown",
      "metadata": {
        "id": "AlNLNnjYywiI"
      },
      "source": [
        "## Columns"
      ]
    },
    {
      "cell_type": "markdown",
      "metadata": {
        "id": "l6bADowIf-a9"
      },
      "source": [
        "### Dropoff datetime, ID"
      ]
    },
    {
      "cell_type": "code",
      "execution_count": null,
      "metadata": {
        "colab": {
          "base_uri": "https://localhost:8080/"
        },
        "id": "bJC05wEFlOrI",
        "outputId": "fef0c179-f722-430b-a0ec-58656b17fc85"
      },
      "outputs": [
        {
          "data": {
            "text/plain": [
              "0.000000e+00    1220647\n",
              "1.136868e-13      82271\n",
              "5.684342e-14      79253\n",
              "2.842171e-14      33925\n",
              "2.273737e-13      29992\n",
              "1.421085e-14       6808\n",
              "4.547474e-13       4090\n",
              "7.105427e-15       1021\n",
              "3.552714e-15        383\n",
              "1.776357e-15        148\n",
              "9.094947e-13         65\n",
              "7.275958e-12         20\n",
              "3.637979e-12         15\n",
              "1.818989e-12          4\n",
              "2.328306e-10          2\n",
              "dtype: int64"
            ]
          },
          "execution_count": 79,
          "metadata": {},
          "output_type": "execute_result"
        }
      ],
      "source": [
        "((data['dropoff_datetime'] - data['pickup_datetime']).dt.total_seconds() - data['trip_duration']).value_counts()"
      ]
    },
    {
      "cell_type": "code",
      "execution_count": null,
      "metadata": {
        "colab": {
          "base_uri": "https://localhost:8080/"
        },
        "id": "RYRcKRzA29pU",
        "outputId": "585e202a-a973-4aca-ffd6-e39b45778873"
      },
      "outputs": [
        {
          "data": {
            "text/plain": [
              "1458644"
            ]
          },
          "execution_count": 80,
          "metadata": {},
          "output_type": "execute_result"
        }
      ],
      "source": [
        "data['id'].nunique()"
      ]
    },
    {
      "cell_type": "code",
      "execution_count": null,
      "metadata": {
        "id": "sEyCGQMJuFJH"
      },
      "outputs": [],
      "source": [
        "data = data.drop(['id', 'dropoff_datetime'], axis = 1)"
      ]
    },
    {
      "cell_type": "markdown",
      "metadata": {
        "id": "BxLmmEiSgCnv"
      },
      "source": [
        "### Pickup, Dropoff coordinates"
      ]
    },
    {
      "cell_type": "code",
      "execution_count": null,
      "metadata": {
        "id": "f-0NoJdkuRLa"
      },
      "outputs": [],
      "source": [
        "# Containing within the box of nYC\n",
        "\n",
        "data = data[\n",
        "    data['pickup_latitude'].between(40.46, 40.93) &\n",
        "    data['dropoff_latitude'].between(40.46, 40.93) &\n",
        "    data['pickup_longitude'].between(-74.3, -73.65) &\n",
        "    data['dropoff_longitude'].between(-74.3, -73.65)\n",
        "]"
      ]
    },
    {
      "cell_type": "markdown",
      "metadata": {
        "id": "Sw74RoOcgH9E"
      },
      "source": [
        "### Pickup datetime -> other variables"
      ]
    },
    {
      "cell_type": "code",
      "execution_count": null,
      "metadata": {
        "id": "x_2Khmo6uVNl"
      },
      "outputs": [],
      "source": [
        "data['day_of_week'] = data['pickup_datetime'].dt.weekday"
      ]
    },
    {
      "cell_type": "code",
      "execution_count": null,
      "metadata": {
        "id": "Rv1SRMvG6acS"
      },
      "outputs": [],
      "source": [
        "data['day_of_month'] = data['pickup_datetime'].dt.day"
      ]
    },
    {
      "cell_type": "code",
      "execution_count": null,
      "metadata": {
        "id": "fETrDgwgZBmV"
      },
      "outputs": [],
      "source": [
        "data['month'] = data['pickup_datetime'].dt.month"
      ]
    },
    {
      "cell_type": "code",
      "execution_count": null,
      "metadata": {
        "id": "dJSmmzxrqHtn"
      },
      "outputs": [],
      "source": [
        "data['hour_of_day'] = data['pickup_datetime'].dt.hour"
      ]
    },
    {
      "cell_type": "code",
      "execution_count": null,
      "metadata": {
        "id": "COJ85ANhrhHw"
      },
      "outputs": [],
      "source": [
        "data = data.drop(['pickup_datetime'], axis = 1)"
      ]
    },
    {
      "cell_type": "markdown",
      "metadata": {
        "id": "qLJllDLYgLl8"
      },
      "source": [
        "### passenger count"
      ]
    },
    {
      "cell_type": "code",
      "execution_count": null,
      "metadata": {
        "colab": {
          "base_uri": "https://localhost:8080/"
        },
        "id": "knnXpZIDffv8",
        "outputId": "e948f549-6c0f-4913-e9ee-87f95a9f4d2a"
      },
      "outputs": [
        {
          "data": {
            "text/plain": [
              "1    1032787\n",
              "2     210176\n",
              "5      78058\n",
              "3      59862\n",
              "6      48322\n",
              "4      28378\n",
              "0         60\n",
              "7          2\n",
              "9          1\n",
              "8          1\n",
              "Name: passenger_count, dtype: int64"
            ]
          },
          "execution_count": 88,
          "metadata": {},
          "output_type": "execute_result"
        }
      ],
      "source": [
        "data['passenger_count'].value_counts()"
      ]
    },
    {
      "cell_type": "code",
      "execution_count": null,
      "metadata": {
        "id": "uUEIcQl7gtdP"
      },
      "outputs": [],
      "source": [
        "data = data[~data['passenger_count'].isin([0, 7, 8, 9])]"
      ]
    },
    {
      "cell_type": "markdown",
      "metadata": {
        "id": "r9QSrKmDg9cM"
      },
      "source": [
        "### Store_and_fwd_flag"
      ]
    },
    {
      "cell_type": "code",
      "execution_count": null,
      "metadata": {
        "colab": {
          "base_uri": "https://localhost:8080/"
        },
        "id": "TIaMWNTjhBD_",
        "outputId": "f332a84a-e5bc-4f32-a97f-b8435764bde7"
      },
      "outputs": [
        {
          "data": {
            "text/plain": [
              "N    1449562\n",
              "Y       8021\n",
              "Name: store_and_fwd_flag, dtype: int64"
            ]
          },
          "execution_count": 90,
          "metadata": {},
          "output_type": "execute_result"
        }
      ],
      "source": [
        "data['store_and_fwd_flag'].value_counts()"
      ]
    },
    {
      "cell_type": "code",
      "execution_count": null,
      "metadata": {
        "colab": {
          "base_uri": "https://localhost:8080/"
        },
        "id": "B3IKrpkEi-bz",
        "outputId": "106f61eb-afe1-460f-bf08-6c22d17db873"
      },
      "outputs": [
        {
          "name": "stderr",
          "output_type": "stream",
          "text": [
            "C:\\Users\\User\\anaconda3\\lib\\site-packages\\seaborn\\_decorators.py:36: FutureWarning: Pass the following variable as a keyword arg: x. From version 0.12, the only valid positional argument will be `data`, and passing other arguments without an explicit keyword will result in an error or misinterpretation.\n",
            "  warnings.warn(\n"
          ]
        },
        {
          "data": {
            "text/plain": [
              "<AxesSubplot:xlabel='trip_duration'>"
            ]
          },
          "execution_count": 91,
          "metadata": {},
          "output_type": "execute_result"
        },
        {
          "data": {
            "image/png": "[encoded data removed]",
            "text/plain": [
              "<Figure size 432x288 with 1 Axes>"
            ]
          },
          "metadata": {},
          "output_type": "display_data"
        }
      ],
      "source": [
        "sns.boxplot(data[data['store_and_fwd_flag'] == 'Y']['trip_duration'].reset_index(drop = True))"
      ]
    },
    {
      "cell_type": "code",
      "execution_count": null,
      "metadata": {
        "colab": {
          "base_uri": "https://localhost:8080/"
        },
        "id": "wE3K9ZaRg8X7",
        "outputId": "791f500f-bec9-4e23-a7a4-ed91806cc95d"
      },
      "outputs": [
        {
          "data": {
            "image/png": "[encoded data removed]",
            "text/plain": [
              "<Figure size 660x360 with 1 Axes>"
            ]
          },
          "metadata": {},
          "output_type": "display_data"
        }
      ],
      "source": [
        "def catplot_with_median(dataset, variable, legend, median = False, unit = None, kind_ = 'violin'):\n",
        "  ''' Returns a categorical plot with median. Inputs: Dataframe dataset, continuous variable to plot,\n",
        "  the discrete variable to legend on, median (True/False), unit and type of plot'''\n",
        "\n",
        "  sns.catplot(data = dataset, x = legend, y = variable, height = 5, aspect = 11/6, kind = kind_)\n",
        "  plt.ylabel(variable + f' ({unit})')\n",
        "  if median == True:\n",
        "    colour = ['green', 'red', 'yellow', 'pink']\n",
        "    i = 0\n",
        "    for value in dataset.dropna()[legend].unique():\n",
        "      plt.axhline(dataset[dataset[legend] == value][variable].median(), color = colour[i], linestyle = '--', label = f\"Median ({legend} = {value}) = {dataset[dataset[legend] == value][variable].median():.2f} {unit}\")\n",
        "      i+=1\n",
        "    plt.legend(bbox_to_anchor=(1, 0.54))\n",
        "  plt.show()\n",
        "\n",
        "catplot_with_median(dataset = data, variable = 'trip_duration', legend = 'store_and_fwd_flag')"
      ]
    },
    {
      "cell_type": "code",
      "execution_count": null,
      "metadata": {
        "id": "_NBhPY57IzEl"
      },
      "outputs": [],
      "source": [
        "data['store_and_fwd_flag'] = data['store_and_fwd_flag'].map({'N':0, 'Y':1})"
      ]
    },
    {
      "cell_type": "markdown",
      "metadata": {
        "id": "3RUVNnTEJJmd"
      },
      "source": [
        "### distance and trip_duration"
      ]
    },
    {
      "cell_type": "code",
      "execution_count": null,
      "metadata": {
        "colab": {
          "base_uri": "https://localhost:8080/"
        },
        "id": "ptf-EglQLe-j",
        "outputId": "27d82170-f509-4988-87b6-7a36f2e454a4"
      },
      "outputs": [
        {
          "name": "stdout",
          "output_type": "stream",
          "text": [
            "Requirement already satisfied: haversine in c:\\users\\user\\anaconda3\\lib\\site-packages (2.8.0)\n"
          ]
        }
      ],
      "source": [
        "!pip install haversine"
      ]
    },
    {
      "cell_type": "code",
      "execution_count": null,
      "metadata": {
        "id": "m0JjnX6YOcFb",
        "outputId": "0aecc2c0-b904-4ef3-bae4-cb82ed8772a9"
      },
      "outputs": [
        {
          "data": {
            "text/html": [
              "<div>\n",
              "<style scoped>\n",
              "    .dataframe tbody tr th:only-of-type {\n",
              "        vertical-align: middle;\n",
              "    }\n",
              "\n",
              "    .dataframe tbody tr th {\n",
              "        vertical-align: top;\n",
              "    }\n",
              "\n",
              "    .dataframe thead th {\n",
              "        text-align: right;\n",
              "    }\n",
              "</style>\n",
              "<table border=\"1\" class=\"dataframe\">\n",
              "  <thead>\n",
              "    <tr style=\"text-align: right;\">\n",
              "      <th></th>\n",
              "      <th>vendor_id</th>\n",
              "      <th>passenger_count</th>\n",
              "      <th>pickup_longitude</th>\n",
              "      <th>pickup_latitude</th>\n",
              "      <th>dropoff_longitude</th>\n",
              "      <th>dropoff_latitude</th>\n",
              "      <th>store_and_fwd_flag</th>\n",
              "      <th>trip_duration</th>\n",
              "      <th>day_of_week</th>\n",
              "      <th>day_of_month</th>\n",
              "      <th>month</th>\n",
              "      <th>hour_of_day</th>\n",
              "    </tr>\n",
              "  </thead>\n",
              "  <tbody>\n",
              "    <tr>\n",
              "      <th>0</th>\n",
              "      <td>2</td>\n",
              "      <td>1</td>\n",
              "      <td>-73.982155</td>\n",
              "      <td>40.767937</td>\n",
              "      <td>-73.964630</td>\n",
              "      <td>40.765602</td>\n",
              "      <td>0</td>\n",
              "      <td>455</td>\n",
              "      <td>0</td>\n",
              "      <td>14</td>\n",
              "      <td>3</td>\n",
              "      <td>17</td>\n",
              "    </tr>\n",
              "    <tr>\n",
              "      <th>1</th>\n",
              "      <td>1</td>\n",
              "      <td>1</td>\n",
              "      <td>-73.980415</td>\n",
              "      <td>40.738564</td>\n",
              "      <td>-73.999481</td>\n",
              "      <td>40.731152</td>\n",
              "      <td>0</td>\n",
              "      <td>663</td>\n",
              "      <td>6</td>\n",
              "      <td>12</td>\n",
              "      <td>6</td>\n",
              "      <td>0</td>\n",
              "    </tr>\n",
              "    <tr>\n",
              "      <th>2</th>\n",
              "      <td>2</td>\n",
              "      <td>1</td>\n",
              "      <td>-73.979027</td>\n",
              "      <td>40.763939</td>\n",
              "      <td>-74.005333</td>\n",
              "      <td>40.710087</td>\n",
              "      <td>0</td>\n",
              "      <td>2124</td>\n",
              "      <td>1</td>\n",
              "      <td>19</td>\n",
              "      <td>1</td>\n",
              "      <td>11</td>\n",
              "    </tr>\n",
              "    <tr>\n",
              "      <th>3</th>\n",
              "      <td>2</td>\n",
              "      <td>1</td>\n",
              "      <td>-74.010040</td>\n",
              "      <td>40.719971</td>\n",
              "      <td>-74.012268</td>\n",
              "      <td>40.706718</td>\n",
              "      <td>0</td>\n",
              "      <td>429</td>\n",
              "      <td>2</td>\n",
              "      <td>6</td>\n",
              "      <td>4</td>\n",
              "      <td>19</td>\n",
              "    </tr>\n",
              "    <tr>\n",
              "      <th>4</th>\n",
              "      <td>2</td>\n",
              "      <td>1</td>\n",
              "      <td>-73.973053</td>\n",
              "      <td>40.793209</td>\n",
              "      <td>-73.972923</td>\n",
              "      <td>40.782520</td>\n",
              "      <td>0</td>\n",
              "      <td>435</td>\n",
              "      <td>5</td>\n",
              "      <td>26</td>\n",
              "      <td>3</td>\n",
              "      <td>13</td>\n",
              "    </tr>\n",
              "    <tr>\n",
              "      <th>...</th>\n",
              "      <td>...</td>\n",
              "      <td>...</td>\n",
              "      <td>...</td>\n",
              "      <td>...</td>\n",
              "      <td>...</td>\n",
              "      <td>...</td>\n",
              "      <td>...</td>\n",
              "      <td>...</td>\n",
              "      <td>...</td>\n",
              "      <td>...</td>\n",
              "      <td>...</td>\n",
              "      <td>...</td>\n",
              "    </tr>\n",
              "    <tr>\n",
              "      <th>1458639</th>\n",
              "      <td>2</td>\n",
              "      <td>4</td>\n",
              "      <td>-73.982201</td>\n",
              "      <td>40.745522</td>\n",
              "      <td>-73.994911</td>\n",
              "      <td>40.740170</td>\n",
              "      <td>0</td>\n",
              "      <td>778</td>\n",
              "      <td>4</td>\n",
              "      <td>8</td>\n",
              "      <td>4</td>\n",
              "      <td>13</td>\n",
              "    </tr>\n",
              "    <tr>\n",
              "      <th>1458640</th>\n",
              "      <td>1</td>\n",
              "      <td>1</td>\n",
              "      <td>-74.000946</td>\n",
              "      <td>40.747379</td>\n",
              "      <td>-73.970184</td>\n",
              "      <td>40.796547</td>\n",
              "      <td>0</td>\n",
              "      <td>655</td>\n",
              "      <td>6</td>\n",
              "      <td>10</td>\n",
              "      <td>1</td>\n",
              "      <td>7</td>\n",
              "    </tr>\n",
              "    <tr>\n",
              "      <th>1458641</th>\n",
              "      <td>2</td>\n",
              "      <td>1</td>\n",
              "      <td>-73.959129</td>\n",
              "      <td>40.768799</td>\n",
              "      <td>-74.004433</td>\n",
              "      <td>40.707371</td>\n",
              "      <td>0</td>\n",
              "      <td>764</td>\n",
              "      <td>4</td>\n",
              "      <td>22</td>\n",
              "      <td>4</td>\n",
              "      <td>6</td>\n",
              "    </tr>\n",
              "    <tr>\n",
              "      <th>1458642</th>\n",
              "      <td>1</td>\n",
              "      <td>1</td>\n",
              "      <td>-73.982079</td>\n",
              "      <td>40.749062</td>\n",
              "      <td>-73.974632</td>\n",
              "      <td>40.757107</td>\n",
              "      <td>0</td>\n",
              "      <td>373</td>\n",
              "      <td>1</td>\n",
              "      <td>5</td>\n",
              "      <td>1</td>\n",
              "      <td>15</td>\n",
              "    </tr>\n",
              "    <tr>\n",
              "      <th>1458643</th>\n",
              "      <td>1</td>\n",
              "      <td>1</td>\n",
              "      <td>-73.979538</td>\n",
              "      <td>40.781750</td>\n",
              "      <td>-73.972809</td>\n",
              "      <td>40.790585</td>\n",
              "      <td>0</td>\n",
              "      <td>198</td>\n",
              "      <td>1</td>\n",
              "      <td>5</td>\n",
              "      <td>4</td>\n",
              "      <td>14</td>\n",
              "    </tr>\n",
              "  </tbody>\n",
              "</table>\n",
              "<p>1457583 rows × 12 columns</p>\n",
              "</div>"
            ],
            "text/plain": [
              "         vendor_id  passenger_count  pickup_longitude  pickup_latitude  \\\n",
              "0                2                1        -73.982155        40.767937   \n",
              "1                1                1        -73.980415        40.738564   \n",
              "2                2                1        -73.979027        40.763939   \n",
              "3                2                1        -74.010040        40.719971   \n",
              "4                2                1        -73.973053        40.793209   \n",
              "...            ...              ...               ...              ...   \n",
              "1458639          2                4        -73.982201        40.745522   \n",
              "1458640          1                1        -74.000946        40.747379   \n",
              "1458641          2                1        -73.959129        40.768799   \n",
              "1458642          1                1        -73.982079        40.749062   \n",
              "1458643          1                1        -73.979538        40.781750   \n",
              "\n",
              "         dropoff_longitude  dropoff_latitude  store_and_fwd_flag  \\\n",
              "0               -73.964630         40.765602                   0   \n",
              "1               -73.999481         40.731152                   0   \n",
              "2               -74.005333         40.710087                   0   \n",
              "3               -74.012268         40.706718                   0   \n",
              "4               -73.972923         40.782520                   0   \n",
              "...                    ...               ...                 ...   \n",
              "1458639         -73.994911         40.740170                   0   \n",
              "1458640         -73.970184         40.796547                   0   \n",
              "1458641         -74.004433         40.707371                   0   \n",
              "1458642         -73.974632         40.757107                   0   \n",
              "1458643         -73.972809         40.790585                   0   \n",
              "\n",
              "         trip_duration  day_of_week  day_of_month  month  hour_of_day  \n",
              "0                  455            0            14      3           17  \n",
              "1                  663            6            12      6            0  \n",
              "2                 2124            1            19      1           11  \n",
              "3                  429            2             6      4           19  \n",
              "4                  435            5            26      3           13  \n",
              "...                ...          ...           ...    ...          ...  \n",
              "1458639            778            4             8      4           13  \n",
              "1458640            655            6            10      1            7  \n",
              "1458641            764            4            22      4            6  \n",
              "1458642            373            1             5      1           15  \n",
              "1458643            198            1             5      4           14  \n",
              "\n",
              "[1457583 rows x 12 columns]"
            ]
          },
          "execution_count": 94,
          "metadata": {},
          "output_type": "execute_result"
        }
      ],
      "source": [
        "from haversine import haversine\n",
        "data"
      ]
    },
    {
      "cell_type": "code",
      "execution_count": null,
      "metadata": {
        "id": "GruJantgLuDz"
      },
      "outputs": [],
      "source": [
        "def calculate_distance(row):\n",
        "    coords1 = (row['pickup_latitude'], row['pickup_longitude'])\n",
        "    coords2 = (row['dropoff_latitude'], row['dropoff_longitude'])\n",
        "    return haversine(coords1, coords2)"
      ]
    },
    {
      "cell_type": "code",
      "execution_count": null,
      "metadata": {
        "id": "frCGisvWOjEH"
      },
      "outputs": [],
      "source": [
        "data['distance'] =  data.apply(lambda x: calculate_distance(x), axis=1)"
      ]
    },
    {
      "cell_type": "code",
      "execution_count": null,
      "metadata": {
        "colab": {
          "base_uri": "https://localhost:8080/"
        },
        "id": "E2DVV9KVj7Vd",
        "outputId": "d730e1e9-1a9d-4444-f88f-5cca1eecff3c"
      },
      "outputs": [
        {
          "data": {
            "text/plain": [
              "<seaborn.axisgrid.FacetGrid at 0x19fe793ebb0>"
            ]
          },
          "execution_count": 97,
          "metadata": {},
          "output_type": "execute_result"
        },
        {
          "data": {
            "image/png": "[encoded data removed]",
            "text/plain": [
              "<Figure size 360x360 with 1 Axes>"
            ]
          },
          "metadata": {},
          "output_type": "display_data"
        }
      ],
      "source": [
        "sns.displot(data['distance'], kde = True)"
      ]
    },
    {
      "cell_type": "code",
      "execution_count": null,
      "metadata": {
        "colab": {
          "base_uri": "https://localhost:8080/"
        },
        "id": "8slILa3KrECP",
        "outputId": "0be816b4-2bb8-4cba-c963-6962db299d04"
      },
      "outputs": [
        {
          "name": "stderr",
          "output_type": "stream",
          "text": [
            "C:\\Users\\User\\anaconda3\\lib\\site-packages\\seaborn\\_decorators.py:36: FutureWarning: Pass the following variable as a keyword arg: x. From version 0.12, the only valid positional argument will be `data`, and passing other arguments without an explicit keyword will result in an error or misinterpretation.\n",
            "  warnings.warn(\n"
          ]
        },
        {
          "data": {
            "text/plain": [
              "<AxesSubplot:xlabel='trip_duration'>"
            ]
          },
          "execution_count": 98,
          "metadata": {},
          "output_type": "execute_result"
        },
        {
          "data": {
            "image/png": "[encoded data removed]",
            "text/plain": [
              "<Figure size 432x288 with 1 Axes>"
            ]
          },
          "metadata": {},
          "output_type": "display_data"
        }
      ],
      "source": [
        "sns.boxplot(data[data['distance'] == 0]['trip_duration'].reset_index(drop = True))"
      ]
    },
    {
      "cell_type": "code",
      "execution_count": null,
      "metadata": {
        "colab": {
          "base_uri": "https://localhost:8080/"
        },
        "id": "FFE1-Jv7BkTL",
        "outputId": "d2bef7fb-eeae-4e2c-ab61-0e51bc284169"
      },
      "outputs": [
        {
          "name": "stderr",
          "output_type": "stream",
          "text": [
            "C:\\Users\\User\\anaconda3\\lib\\site-packages\\seaborn\\_decorators.py:36: FutureWarning: Pass the following variable as a keyword arg: x. From version 0.12, the only valid positional argument will be `data`, and passing other arguments without an explicit keyword will result in an error or misinterpretation.\n",
            "  warnings.warn(\n"
          ]
        },
        {
          "data": {
            "text/plain": [
              "<AxesSubplot:xlabel='distance'>"
            ]
          },
          "execution_count": 99,
          "metadata": {},
          "output_type": "execute_result"
        },
        {
          "data": {
            "image/png": "[encoded data removed]",
            "text/plain": [
              "<Figure size 432x288 with 1 Axes>"
            ]
          },
          "metadata": {},
          "output_type": "display_data"
        }
      ],
      "source": [
        "sns.boxplot(data['distance'])"
      ]
    },
    {
      "cell_type": "code",
      "execution_count": null,
      "metadata": {
        "colab": {
          "base_uri": "https://localhost:8080/"
        },
        "id": "_4Lz6duJrxbT",
        "outputId": "84abbffc-3725-4ba4-9b6a-9ca8d3d87256"
      },
      "outputs": [
        {
          "data": {
            "text/plain": [
              "2089.5"
            ]
          },
          "execution_count": 100,
          "metadata": {},
          "output_type": "execute_result"
        }
      ],
      "source": [
        "td_iqr = data['trip_duration'].quantile(0.75) - data['trip_duration'].quantile(0.25)\n",
        "max_q3 = data['trip_duration'].quantile(0.75) + 1.5*td_iqr\n",
        "max_q3"
      ]
    },
    {
      "cell_type": "code",
      "execution_count": null,
      "metadata": {
        "colab": {
          "base_uri": "https://localhost:8080/"
        },
        "id": "UQBxHlV3DC7a",
        "outputId": "46ae5894-4951-4f21-889e-e864865695d0"
      },
      "outputs": [
        {
          "data": {
            "text/plain": [
              "<seaborn.axisgrid.FacetGrid at 0x1a05d437ee0>"
            ]
          },
          "execution_count": 101,
          "metadata": {},
          "output_type": "execute_result"
        },
        {
          "data": {
            "image/png": "[encoded data removed]",
            "text/plain": [
              "<Figure size 360x360 with 1 Axes>"
            ]
          },
          "metadata": {},
          "output_type": "display_data"
        }
      ],
      "source": [
        "sns.catplot(data = data[data['trip_duration'] <= max_q3], x = 'distance', kind = 'violin')"
      ]
    },
    {
      "cell_type": "code",
      "execution_count": null,
      "metadata": {
        "colab": {
          "base_uri": "https://localhost:8080/"
        },
        "id": "KyoAZ9dNsaQD",
        "outputId": "79db4724-a0ae-432c-b344-8b907b690da1"
      },
      "outputs": [
        {
          "data": {
            "text/plain": [
              "<AxesSubplot:xlabel='distance', ylabel='trip_duration'>"
            ]
          },
          "execution_count": 102,
          "metadata": {},
          "output_type": "execute_result"
        },
        {
          "data": {
            "image/png": "[encoded data removed]",
            "text/plain": [
              "<Figure size 720x504 with 1 Axes>"
            ]
          },
          "metadata": {},
          "output_type": "display_data"
        }
      ],
      "source": [
        "plt.figure(figsize = (10, 7))\n",
        "sns.scatterplot(x = 'distance', y = 'trip_duration', data = data[(data['trip_duration'] <= max_q3) & (data['distance'] != 0)])"
      ]
    },
    {
      "cell_type": "code",
      "execution_count": null,
      "metadata": {
        "id": "5UaDVhn3typz"
      },
      "outputs": [],
      "source": [
        "dat1 = data[(data['trip_duration'] <= max_q3) & (data['distance'] != 0)]\n",
        "dat2 = data[data['trip_duration'] <= max_q3]"
      ]
    },
    {
      "cell_type": "code",
      "execution_count": null,
      "metadata": {
        "colab": {
          "base_uri": "https://localhost:8080/"
        },
        "id": "B30qqBu0byL7",
        "outputId": "52fa3112-5426-4db5-941e-cb464c114c71"
      },
      "outputs": [
        {
          "name": "stderr",
          "output_type": "stream",
          "text": [
            "C:\\Users\\User\\anaconda3\\lib\\site-packages\\seaborn\\_decorators.py:36: FutureWarning: Pass the following variable as a keyword arg: x. From version 0.12, the only valid positional argument will be `data`, and passing other arguments without an explicit keyword will result in an error or misinterpretation.\n",
            "  warnings.warn(\n"
          ]
        },
        {
          "data": {
            "text/plain": [
              "<AxesSubplot:xlabel='distance'>"
            ]
          },
          "execution_count": 104,
          "metadata": {},
          "output_type": "execute_result"
        },
        {
          "data": {
            "image/png": "[encoded data removed]",
            "text/plain": [
              "<Figure size 432x288 with 1 Axes>"
            ]
          },
          "metadata": {},
          "output_type": "display_data"
        }
      ],
      "source": [
        "sns.boxplot(dat2['distance'])"
      ]
    },
    {
      "cell_type": "markdown",
      "metadata": {
        "id": "9GdKHZPJy3-L"
      },
      "source": [
        "## Variable transformation and scaling"
      ]
    },
    {
      "cell_type": "markdown",
      "metadata": {
        "id": "1KhsmqJ8T7fT"
      },
      "source": [
        "### transform"
      ]
    },
    {
      "cell_type": "code",
      "execution_count": null,
      "metadata": {
        "id": "NDi7SRYBXWmu"
      },
      "outputs": [],
      "source": [
        "dat1t = dat1.copy()\n",
        "dat2t = dat2.copy()"
      ]
    },
    {
      "cell_type": "code",
      "execution_count": null,
      "metadata": {
        "id": "UMOfTY_eJDYA"
      },
      "outputs": [],
      "source": [
        "dat1t['trip_duration'] = np.sqrt(dat1t['trip_duration'])\n",
        "dat2t['trip_duration'] = np.sqrt(dat2t['trip_duration'])"
      ]
    },
    {
      "cell_type": "code",
      "execution_count": null,
      "metadata": {
        "id": "dtKLq_P4b_G9"
      },
      "outputs": [],
      "source": [
        "dat1t['distance'] = np.sqrt(dat1t['distance'])\n",
        "dat2t['distance'] = np.sqrt(dat2t['distance'])"
      ]
    },
    {
      "cell_type": "markdown",
      "metadata": {
        "id": "JLAlmgBaj5G6"
      },
      "source": [
        "### split"
      ]
    },
    {
      "cell_type": "code",
      "execution_count": null,
      "metadata": {
        "id": "9GHgPopTmvMp"
      },
      "outputs": [],
      "source": [
        "from sklearn.model_selection import train_test_split,GridSearchCV"
      ]
    },
    {
      "cell_type": "code",
      "execution_count": null,
      "metadata": {
        "id": "BdU56SAIm4FX"
      },
      "outputs": [],
      "source": [
        "X1 = dat1.drop('trip_duration', axis = 1)\n",
        "Y1 = dat1['trip_duration']\n",
        "\n",
        "X2 = dat2.drop('trip_duration', axis = 1)\n",
        "Y2 = dat2['trip_duration']\n",
        "\n",
        "X1t = dat1t.drop('trip_duration', axis = 1)\n",
        "Y1t = dat1t['trip_duration']\n",
        "\n",
        "X2t = dat2t.drop('trip_duration', axis = 1)\n",
        "Y2t = dat2t['trip_duration']"
      ]
    },
    {
      "cell_type": "code",
      "execution_count": null,
      "metadata": {
        "id": "ba-csTrGpP1q"
      },
      "outputs": [],
      "source": [
        "rs = 8\n",
        "\n",
        "X1_train, X1_test, Y1_train, Y1_test = train_test_split(X1, Y1, test_size = 0.2, random_state = rs)\n",
        "\n",
        "X2_train, X2_test, Y2_train, Y2_test = train_test_split(X2, Y2, test_size = 0.2, random_state = rs)\n",
        "\n",
        "X1t_train, X1t_test, Y1t_train, Y1t_test = train_test_split(X1t, Y1t, test_size = 0.2, random_state = rs)\n",
        "\n",
        "X2t_train, X2t_test, Y2t_train, Y2t_test = train_test_split(X2t, Y2t, test_size = 0.2, random_state = rs)"
      ]
    },
    {
      "cell_type": "markdown",
      "metadata": {
        "id": "-ZY-DXbqp1m8"
      },
      "source": [
        "### scaling"
      ]
    },
    {
      "cell_type": "code",
      "execution_count": null,
      "metadata": {
        "id": "LYjhUNyzjpEx"
      },
      "outputs": [],
      "source": [
        "from sklearn.preprocessing import StandardScaler\n"
      ]
    },
    {
      "cell_type": "code",
      "execution_count": null,
      "metadata": {
        "id": "SqKOwd8ikuIG"
      },
      "outputs": [],
      "source": [
        "scaler1 = StandardScaler()\n",
        "X1s_train = scaler1.fit_transform(X1_train)\n",
        "X1s_test = scaler1.transform(X1_test)\n",
        "\n",
        "scaler2 = StandardScaler()\n",
        "X2s_train = scaler2.fit_transform(X2_train)\n",
        "X2s_test = scaler2.transform(X2_test)\n",
        "\n",
        "scaler1t = StandardScaler()\n",
        "X1ts_train = scaler1t.fit_transform(X1t_train)\n",
        "X1ts_test = scaler1t.transform(X1t_test)\n",
        "\n",
        "scaler2t = StandardScaler()\n",
        "X2ts_train = scaler2t.fit_transform(X2t_train)\n",
        "X2ts_test = scaler2t.transform(X2t_test)"
      ]
    },
    {
      "cell_type": "markdown",
      "metadata": {
        "id": "Jw7e1sKFsCfh"
      },
      "source": [
        "## reference - datacouples"
      ]
    },
    {
      "cell_type": "code",
      "execution_count": null,
      "metadata": {
        "id": "5em0Mybflu0z"
      },
      "outputs": [],
      "source": [
        "# # Couples:\n",
        "\n",
        "# (X1_train, Y1_train)\n",
        "# (X2_train, Y2_train)\n",
        "# (X1t_train, Y1t_train)\n",
        "# (X2t_train, Y2t_train)\n",
        "\n",
        "# (X1s_train, Y1_train)\n",
        "# (X2s_train, Y2_train)\n",
        "# (X1ts_train, Y1t_train)\n",
        "# (X2ts_train, Y2t_train)"
      ]
    },
    {
      "cell_type": "code",
      "execution_count": null,
      "metadata": {
        "id": "NeVQlIONj6bt"
      },
      "outputs": [],
      "source": [
        "input_names = {'s1': [X1_train, X1_test, Y1_train, Y1_test],\n",
        "               's2': [X2_train, X2_test, Y2_train, Y2_test],\n",
        "               's1t': [X1t_train, X1t_test, Y1t_train, Y1t_test],\n",
        "               's2t': [X2t_train, X2t_test, Y2t_train, Y2t_test],\n",
        "               's1s':[X1s_train, X1s_test, Y1_train, Y1_test],\n",
        "               's2s':[X2s_train, X2s_test, Y2_train, Y2_test],\n",
        "               's1ts': [X1ts_train, X1ts_test, Y1t_train, Y1t_test],\n",
        "               's2ts': [X2ts_train, X2ts_test, Y2t_train, Y2t_test]}"
      ]
    },
    {
      "cell_type": "markdown",
      "metadata": {
        "id": "Zc8mbm0hsNva"
      },
      "source": [
        "## Model implementation"
      ]
    },
    {
      "cell_type": "code",
      "execution_count": null,
      "metadata": {
        "id": "Y3m8TjNt5Ewc"
      },
      "outputs": [],
      "source": [
        "sns.set()"
      ]
    },
    {
      "cell_type": "code",
      "execution_count": null,
      "metadata": {
        "id": "BJuGfkaTa8yV",
        "outputId": "ec6fc680-6761-4f7e-a8af-be557271d2d8"
      },
      "outputs": [
        {
          "name": "stdout",
          "output_type": "stream",
          "text": [
            "Collecting xgboost\n",
            "  Downloading xgboost-1.7.5-py3-none-win_amd64.whl (70.9 MB)\n",
            "Requirement already satisfied: numpy in c:\\users\\user\\anaconda3\\lib\\site-packages (from xgboost) (1.21.5)\n",
            "Requirement already satisfied: scipy in c:\\users\\user\\anaconda3\\lib\\site-packages (from xgboost) (1.7.3)\n",
            "Installing collected packages: xgboost\n",
            "Successfully installed xgboost-1.7.5\n",
            "Collecting xgboost\n",
            "  Downloading xgboost-1.7.5-py3-none-win_amd64.whl (70.9 MB)\n",
            "Requirement already satisfied: numpy in c:\\users\\user\\anaconda3\\lib\\site-packages (from xgboost) (1.21.5)\n",
            "Requirement already satisfied: scipy in c:\\users\\user\\anaconda3\\lib\\site-packages (from xgboost) (1.7.3)\n",
            "Installing collected packages: xgboost\n",
            "Successfully installed xgboost-1.7.5\n",
            "Note: you may need to restart the kernel to use updated packages.\n"
          ]
        }
      ],
      "source": [
        "pip install xgboost"
      ]
    },
    {
      "cell_type": "code",
      "execution_count": null,
      "metadata": {
        "id": "UUYx4_CWVhxL"
      },
      "outputs": [],
      "source": [
        "from sklearn.linear_model import LinearRegression, Lasso, Ridge\n",
        "from sklearn.tree import DecisionTreeRegressor\n",
        "from sklearn.preprocessing import PolynomialFeatures\n",
        "from sklearn.linear_model import ElasticNet\n",
        "import xgboost as xgb\n",
        "from sklearn.metrics import mean_squared_error, mean_absolute_error, r2_score"
      ]
    },
    {
      "cell_type": "code",
      "execution_count": null,
      "metadata": {
        "id": "6h7quQQxW0Gg"
      },
      "outputs": [],
      "source": [
        "def evaluate_model(y_true, y_pred, X_true):\n",
        "  mse = mean_squared_error(y_true, y_pred)\n",
        "  rmse = mean_squared_error(y_true, y_pred, squared=False)\n",
        "  r2 = r2_score(y_true, y_pred)\n",
        "  adj_r2 = 1 - (1 - r2) * ((X_true.shape[0] - 1) / (X_true.shape[0] - X_true.shape[1] - 1))\n",
        "  return mse, rmse, r2, adj_r2"
      ]
    },
    {
      "cell_type": "code",
      "execution_count": null,
      "metadata": {
        "id": "3s9KMAS2Voct"
      },
      "outputs": [],
      "source": [
        "score_names = ['mse_train', 'rmse_train', 'r2_train', 'adj_r2_train', 'mse_test', 'rmse_test', 'r2_test', 'adj_r2_test']\n",
        "scores = dict()\n",
        "for x in input_names:\n",
        "  scores[x] = {'mse_train':[], 'rmse_train':[], 'r2_train':[], 'adj_r2_train':[], 'mse_test':[], 'rmse_test':[], 'r2_test':[], 'adj_r2_test':[]}"
      ]
    },
    {
      "cell_type": "markdown",
      "metadata": {
        "id": "wJ3UufU1VKDt"
      },
      "source": [
        "### 1. linear regression"
      ]
    },
    {
      "cell_type": "code",
      "execution_count": null,
      "metadata": {
        "colab": {
          "base_uri": "https://localhost:8080/"
        },
        "id": "6-_KElwsr9ZY",
        "outputId": "7c8258e1-955c-4b36-917f-4fa33c816522"
      },
      "outputs": [
        {
          "name": "stdout",
          "output_type": "stream",
          "text": [
            "Iteration s1:\n",
            "Train scores = (99818.61080110115, 315.94083433627435, 0.5008032370898652, 0.5007978028522818)\n",
            "Test scores = (99865.16601996575, 316.0145028633429, 0.5002293504974382, 0.5002075878274064)\n",
            "\n",
            "Iteration s2:\n",
            "Train scores = (100508.84445219167, 317.03129885263957, 0.49802883755772864, 0.49802339546241114)\n",
            "Test scores = (99950.4600003539, 316.1494266962284, 0.5012830842690563, 0.5012614563269053)\n",
            "\n",
            "Iteration s1t:\n",
            "Train scores = (28.382061468846413, 5.327481719240941, 0.5808733133887154, 0.5808687507910348)\n",
            "Test scores = (28.345811599282293, 5.324078474185208, 0.5811830066063757, 0.5811647690887463)\n",
            "\n",
            "Iteration s2t:\n",
            "Train scores = (29.10313834668261, 5.394732462938511, 0.5733096772126378, 0.5733050512707882)\n",
            "Test scores = (28.937387649962336, 5.379348255129272, 0.5758591738777713, 0.5758407800897086)\n",
            "\n",
            "Iteration s1s:\n",
            "Train scores = (99818.61080110101, 315.9408343362741, 0.500803237089866, 0.5007978028522826)\n",
            "Test scores = (99865.16601996559, 316.0145028633426, 0.500229350497439, 0.500207587827407)\n",
            "\n",
            "Iteration s2s:\n",
            "Train scores = (100508.84445219176, 317.03129885263974, 0.4980288375577282, 0.4980233954624107)\n",
            "Test scores = (99950.46000035397, 316.1494266962285, 0.501283084269056, 0.5012614563269051)\n",
            "\n",
            "Iteration s1ts:\n",
            "Train scores = (28.382061468846445, 5.327481719240944, 0.580873313388715, 0.5808687507910344)\n",
            "Test scores = (28.345811599282303, 5.324078474185209, 0.5811830066063755, 0.581164769088746)\n",
            "\n",
            "Iteration s2ts:\n",
            "Train scores = (29.103138346682655, 5.3947324629385145, 0.5733096772126371, 0.5733050512707876)\n",
            "Test scores = (28.93738764996237, 5.379348255129274, 0.5758591738777707, 0.5758407800897081)\n",
            "\n"
          ]
        }
      ],
      "source": [
        "# input_names_ = {'s1': [X1_train, X1_test, Y1_train, Y1_test]}\n",
        "\n",
        "for input in input_names:\n",
        "  X_train, X_test, Y_train, Y_test = input_names[input]\n",
        "\n",
        "  reg = LinearRegression()\n",
        "  reg.fit(X_train, Y_train)\n",
        "  Y_train_pred = reg.predict(X_train)\n",
        "  Y_test_pred = reg.predict(X_test)\n",
        "\n",
        "  train_scores = evaluate_model(Y_train, Y_train_pred, X_train)\n",
        "  test_scores = evaluate_model(Y_test, Y_test_pred, X_test)\n",
        "  print(f'Iteration {input}:')\n",
        "  print(f'Train scores = {train_scores}')\n",
        "  print(f'Test scores = {test_scores}\\n')\n",
        "\n",
        "  for i, score in enumerate(score_names):\n",
        "    if 'train' in score:\n",
        "      scores[input][score].append(train_scores[i])\n",
        "    elif 'test' in score:\n",
        "      scores[input][score].append(test_scores[i-4])"
      ]
    },
    {
      "cell_type": "code",
      "execution_count": null,
      "metadata": {
        "id": "R8fP7AjyRE-J"
      },
      "outputs": [],
      "source": [
        "r2s = {'r2_train':[], 'r2_test':[], 'ar2_train':[], 'ar2_test':[]}\n",
        "model_no = 0\n",
        "for input in input_names:\n",
        "  r2s['r2_train'].append(scores[input]['r2_train'][model_no])\n",
        "  r2s['r2_test'].append(scores[input]['r2_test'][model_no])\n",
        "  r2s['ar2_train'].append(scores[input]['adj_r2_train'][model_no])\n",
        "  r2s['ar2_test'].append(scores[input]['adj_r2_test'][model_no])\n",
        "r2s_df = pd.DataFrame(r2s, index = input_names.keys())"
      ]
    },
    {
      "cell_type": "code",
      "execution_count": null,
      "metadata": {
        "colab": {
          "base_uri": "https://localhost:8080/",
          "height": 452
        },
        "id": "NtJYIWX7iG-f",
        "outputId": "d3b570d9-6be1-42e0-e2f7-556c9e7a7b95"
      },
      "outputs": [
        {
          "data": {
            "text/plain": [
              "<AxesSubplot:>"
            ]
          },
          "execution_count": 64,
          "metadata": {},
          "output_type": "execute_result"
        },
        {
          "data": {
            "image/png": "[encoded data removed]",
            "text/plain": [
              "<Figure size 432x288 with 1 Axes>"
            ]
          },
          "metadata": {},
          "output_type": "display_data"
        }
      ],
      "source": [
        "r2s_df.T.iloc[:,:4].plot(marker = 'o')"
      ]
    },
    {
      "cell_type": "code",
      "execution_count": null,
      "metadata": {
        "colab": {
          "base_uri": "https://localhost:8080/",
          "height": 175
        },
        "id": "TxTlIPN33KBO",
        "outputId": "42eb0ebf-b897-4cb4-b465-76747820f824"
      },
      "outputs": [
        {
          "data": {
            "text/html": [
              "<div>\n",
              "<style scoped>\n",
              "    .dataframe tbody tr th:only-of-type {\n",
              "        vertical-align: middle;\n",
              "    }\n",
              "\n",
              "    .dataframe tbody tr th {\n",
              "        vertical-align: top;\n",
              "    }\n",
              "\n",
              "    .dataframe thead th {\n",
              "        text-align: right;\n",
              "    }\n",
              "</style>\n",
              "<table border=\"1\" class=\"dataframe\">\n",
              "  <thead>\n",
              "    <tr style=\"text-align: right;\">\n",
              "      <th></th>\n",
              "      <th>s1</th>\n",
              "      <th>s2</th>\n",
              "      <th>s1t</th>\n",
              "      <th>s2t</th>\n",
              "      <th>s1s</th>\n",
              "      <th>s2s</th>\n",
              "      <th>s1ts</th>\n",
              "      <th>s2ts</th>\n",
              "    </tr>\n",
              "  </thead>\n",
              "  <tbody>\n",
              "    <tr>\n",
              "      <th>r2_train</th>\n",
              "      <td>0.500803</td>\n",
              "      <td>0.498029</td>\n",
              "      <td>0.580873</td>\n",
              "      <td>0.573310</td>\n",
              "      <td>0.500803</td>\n",
              "      <td>0.498029</td>\n",
              "      <td>0.580873</td>\n",
              "      <td>0.573310</td>\n",
              "    </tr>\n",
              "    <tr>\n",
              "      <th>r2_test</th>\n",
              "      <td>0.500229</td>\n",
              "      <td>0.501283</td>\n",
              "      <td>0.581183</td>\n",
              "      <td>0.575859</td>\n",
              "      <td>0.500229</td>\n",
              "      <td>0.501283</td>\n",
              "      <td>0.581183</td>\n",
              "      <td>0.575859</td>\n",
              "    </tr>\n",
              "    <tr>\n",
              "      <th>ar2_train</th>\n",
              "      <td>0.500798</td>\n",
              "      <td>0.498023</td>\n",
              "      <td>0.580869</td>\n",
              "      <td>0.573305</td>\n",
              "      <td>0.500798</td>\n",
              "      <td>0.498023</td>\n",
              "      <td>0.580869</td>\n",
              "      <td>0.573305</td>\n",
              "    </tr>\n",
              "    <tr>\n",
              "      <th>ar2_test</th>\n",
              "      <td>0.500208</td>\n",
              "      <td>0.501261</td>\n",
              "      <td>0.581165</td>\n",
              "      <td>0.575841</td>\n",
              "      <td>0.500208</td>\n",
              "      <td>0.501261</td>\n",
              "      <td>0.581165</td>\n",
              "      <td>0.575841</td>\n",
              "    </tr>\n",
              "  </tbody>\n",
              "</table>\n",
              "</div>"
            ],
            "text/plain": [
              "                 s1        s2       s1t       s2t       s1s       s2s  \\\n",
              "r2_train   0.500803  0.498029  0.580873  0.573310  0.500803  0.498029   \n",
              "r2_test    0.500229  0.501283  0.581183  0.575859  0.500229  0.501283   \n",
              "ar2_train  0.500798  0.498023  0.580869  0.573305  0.500798  0.498023   \n",
              "ar2_test   0.500208  0.501261  0.581165  0.575841  0.500208  0.501261   \n",
              "\n",
              "               s1ts      s2ts  \n",
              "r2_train   0.580873  0.573310  \n",
              "r2_test    0.581183  0.575859  \n",
              "ar2_train  0.580869  0.573305  \n",
              "ar2_test   0.581165  0.575841  "
            ]
          },
          "execution_count": 65,
          "metadata": {},
          "output_type": "execute_result"
        }
      ],
      "source": [
        "r2s_df.T"
      ]
    },
    {
      "cell_type": "markdown",
      "metadata": {
        "id": "muDom3oE3Y10"
      },
      "source": [
        "### 2. Decision tree"
      ]
    },
    {
      "cell_type": "code",
      "execution_count": null,
      "metadata": {
        "id": "N1yhW8TG4MtJ"
      },
      "outputs": [],
      "source": [
        "param_dt = {'max_depth' : [20, 25], 'min_samples_split' : [40, 60, 80]}"
      ]
    },
    {
      "cell_type": "code",
      "execution_count": null,
      "metadata": {
        "colab": {
          "base_uri": "https://localhost:8080/"
        },
        "id": "MaBCQcyENqxq",
        "outputId": "4d16a244-b8ae-44a1-97e9-e8f890112bf8"
      },
      "outputs": [
        {
          "name": "stdout",
          "output_type": "stream",
          "text": [
            "Iteration s1:\n",
            "Best params = {'max_depth': 20, 'min_samples_split': 80}\n",
            "Train scores = (42639.15363290945, 206.49250260701828, 0.7867599308791272, 0.786757609555585)\n",
            "Test scores = (56123.57146794749, 236.90413982863933, 0.7191321570593311, 0.7191199265808215)\n",
            "\n",
            "Iteration s2:\n",
            "Best params = {'max_depth': 20, 'min_samples_split': 80}\n",
            "Train scores = (43473.832572250074, 208.50379510275124, 0.7828787069331669, 0.7828763530234989)\n",
            "Test scores = (56864.71567538632, 238.46323757633232, 0.7162654817652135, 0.7162531770016232)\n",
            "\n",
            "Iteration s1t:\n",
            "Best params = {'max_depth': 20, 'min_samples_split': 80}\n",
            "Train scores = (13.934447599992232, 3.732887300735482, 0.7942256992588815, 0.7942234592074191)\n",
            "Test scores = (18.136208271769902, 4.258662732803562, 0.7320326428707522, 0.7320209741479524)\n",
            "\n",
            "Iteration s2t:\n",
            "Best params = {'max_depth': 20, 'min_samples_split': 80}\n",
            "Train scores = (14.234464060098777, 3.7728588709490283, 0.7913040170390773, 0.7913017544719885)\n",
            "Test scores = (18.539223621770308, 4.305719872654317, 0.7282670530692279, 0.7282552687798418)\n",
            "\n",
            "Iteration s1s:\n",
            "Best params = {'max_depth': 20, 'min_samples_split': 80}\n",
            "Train scores = (42639.09986338968, 206.49237240970834, 0.7867601997825912, 0.7867578784619763)\n",
            "Test scores = (56131.507274695316, 236.92088821945464, 0.719092442677923, 0.7190802104700382)\n",
            "\n",
            "Iteration s2s:\n",
            "Best params = {'max_depth': 20, 'min_samples_split': 80}\n",
            "Train scores = (43473.91143838443, 208.50398422664355, 0.7828783130521572, 0.782875959138219)\n",
            "Test scores = (56878.36555322126, 238.4918563666719, 0.7161973737747759, 0.7161850660575346)\n",
            "\n",
            "Iteration s1ts:\n",
            "Best params = {'max_depth': 20, 'min_samples_split': 80}\n",
            "Train scores = (13.934447599992232, 3.732887300735482, 0.7942256992588815, 0.7942234592074191)\n",
            "Test scores = (18.13974612977955, 4.259078084489594, 0.7319803700667274, 0.7319686990676919)\n",
            "\n",
            "Iteration s2ts:\n",
            "Best params = {'max_depth': 20, 'min_samples_split': 80}\n",
            "Train scores = (14.23381142923758, 3.7727723797278814, 0.7913135854666986, 0.7913113230033455)\n",
            "Test scores = (18.529300005850118, 4.304567342468941, 0.7284125054060258, 0.7284007274244961)\n",
            "\n",
            "CPU times: total: 45min 40s\n",
            "Wall time: 1h 7min 45s\n"
          ]
        }
      ],
      "source": [
        "%%time\n",
        "# input_names_ = {'s1': [X1_train, X1_test, Y1_train, Y1_test]}\n",
        "\n",
        "for input in input_names:\n",
        "  X_train, X_test, Y_train, Y_test = input_names[input]\n",
        "  dt = DecisionTreeRegressor()\n",
        "  dt_grid = GridSearchCV(estimator = dt, param_grid = param_dt, cv = 5, scoring = 'r2')\n",
        "  dt_grid.fit(X_train, Y_train)\n",
        "\n",
        "  reg = dt_grid.best_estimator_\n",
        "  Y_train_pred = reg.predict(X_train)\n",
        "  Y_test_pred = reg.predict(X_test)\n",
        "\n",
        "  train_scores = evaluate_model(Y_train, Y_train_pred, X_train)\n",
        "  test_scores = evaluate_model(Y_test, Y_test_pred, X_test)\n",
        "  print(f'Iteration {input}:')\n",
        "  print(f'Best params = {dt_grid.best_params_}')\n",
        "  print(f'Train scores = {train_scores}')\n",
        "  print(f'Test scores = {test_scores}\\n')\n",
        "\n",
        "  for i, score in enumerate(score_names):\n",
        "    if 'train' in score:\n",
        "      scores[input][score].append(train_scores[i])\n",
        "    elif 'test' in score:\n",
        "      scores[input][score].append(test_scores[i-4])"
      ]
    },
    {
      "cell_type": "code",
      "execution_count": null,
      "metadata": {
        "id": "-34oLvRBOzzK"
      },
      "outputs": [],
      "source": [
        "r2s = {'r2_train':[], 'r2_test':[], 'ar2_train':[], 'ar2_test':[]}\n",
        "model_no = 1\n",
        "for input in input_names:\n",
        "  r2s['r2_train'].append(scores[input]['r2_train'][model_no])\n",
        "  r2s['r2_test'].append(scores[input]['r2_test'][model_no])\n",
        "  r2s['ar2_train'].append(scores[input]['adj_r2_train'][model_no])\n",
        "  r2s['ar2_test'].append(scores[input]['adj_r2_test'][model_no])\n",
        "r2s_df = pd.DataFrame(r2s, index = input_names.keys())"
      ]
    },
    {
      "cell_type": "code",
      "execution_count": null,
      "metadata": {
        "id": "-ixfRPWVO_Gu",
        "outputId": "c4c4457c-27fc-46b7-ca96-824d09100bb5"
      },
      "outputs": [
        {
          "data": {
            "text/plain": [
              "<AxesSubplot:>"
            ]
          },
          "execution_count": 72,
          "metadata": {},
          "output_type": "execute_result"
        },
        {
          "data": {
            "image/png": "[encoded data removed]",
            "text/plain": [
              "<Figure size 432x288 with 1 Axes>"
            ]
          },
          "metadata": {},
          "output_type": "display_data"
        }
      ],
      "source": [
        "r2s_df.T.iloc[:,:4].plot(marker = 'o')"
      ]
    },
    {
      "cell_type": "code",
      "execution_count": null,
      "metadata": {
        "id": "m_BuafWEO_zN",
        "outputId": "53b4a8cb-cdfa-4152-9c4c-0a50a81cca60"
      },
      "outputs": [
        {
          "data": {
            "text/html": [
              "<div>\n",
              "<style scoped>\n",
              "    .dataframe tbody tr th:only-of-type {\n",
              "        vertical-align: middle;\n",
              "    }\n",
              "\n",
              "    .dataframe tbody tr th {\n",
              "        vertical-align: top;\n",
              "    }\n",
              "\n",
              "    .dataframe thead th {\n",
              "        text-align: right;\n",
              "    }\n",
              "</style>\n",
              "<table border=\"1\" class=\"dataframe\">\n",
              "  <thead>\n",
              "    <tr style=\"text-align: right;\">\n",
              "      <th></th>\n",
              "      <th>s1</th>\n",
              "      <th>s2</th>\n",
              "      <th>s1t</th>\n",
              "      <th>s2t</th>\n",
              "      <th>s1s</th>\n",
              "      <th>s2s</th>\n",
              "      <th>s1ts</th>\n",
              "      <th>s2ts</th>\n",
              "    </tr>\n",
              "  </thead>\n",
              "  <tbody>\n",
              "    <tr>\n",
              "      <th>r2_train</th>\n",
              "      <td>0.786760</td>\n",
              "      <td>0.782879</td>\n",
              "      <td>0.794226</td>\n",
              "      <td>0.791304</td>\n",
              "      <td>0.786760</td>\n",
              "      <td>0.782878</td>\n",
              "      <td>0.794226</td>\n",
              "      <td>0.791314</td>\n",
              "    </tr>\n",
              "    <tr>\n",
              "      <th>r2_test</th>\n",
              "      <td>0.719132</td>\n",
              "      <td>0.716265</td>\n",
              "      <td>0.732033</td>\n",
              "      <td>0.728267</td>\n",
              "      <td>0.719092</td>\n",
              "      <td>0.716197</td>\n",
              "      <td>0.731980</td>\n",
              "      <td>0.728413</td>\n",
              "    </tr>\n",
              "    <tr>\n",
              "      <th>ar2_train</th>\n",
              "      <td>0.786758</td>\n",
              "      <td>0.782876</td>\n",
              "      <td>0.794223</td>\n",
              "      <td>0.791302</td>\n",
              "      <td>0.786758</td>\n",
              "      <td>0.782876</td>\n",
              "      <td>0.794223</td>\n",
              "      <td>0.791311</td>\n",
              "    </tr>\n",
              "    <tr>\n",
              "      <th>ar2_test</th>\n",
              "      <td>0.719120</td>\n",
              "      <td>0.716253</td>\n",
              "      <td>0.732021</td>\n",
              "      <td>0.728255</td>\n",
              "      <td>0.719080</td>\n",
              "      <td>0.716185</td>\n",
              "      <td>0.731969</td>\n",
              "      <td>0.728401</td>\n",
              "    </tr>\n",
              "  </tbody>\n",
              "</table>\n",
              "</div>"
            ],
            "text/plain": [
              "                 s1        s2       s1t       s2t       s1s       s2s  \\\n",
              "r2_train   0.786760  0.782879  0.794226  0.791304  0.786760  0.782878   \n",
              "r2_test    0.719132  0.716265  0.732033  0.728267  0.719092  0.716197   \n",
              "ar2_train  0.786758  0.782876  0.794223  0.791302  0.786758  0.782876   \n",
              "ar2_test   0.719120  0.716253  0.732021  0.728255  0.719080  0.716185   \n",
              "\n",
              "               s1ts      s2ts  \n",
              "r2_train   0.794226  0.791314  \n",
              "r2_test    0.731980  0.728413  \n",
              "ar2_train  0.794223  0.791311  \n",
              "ar2_test   0.731969  0.728401  "
            ]
          },
          "execution_count": 70,
          "metadata": {},
          "output_type": "execute_result"
        }
      ],
      "source": [
        "r2s_df.T"
      ]
    },
    {
      "cell_type": "markdown",
      "metadata": {
        "id": "8l3gRJ52L6Oz"
      },
      "source": [
        "### 3. Polynomial regression"
      ]
    },
    {
      "cell_type": "code",
      "execution_count": null,
      "metadata": {
        "id": "TuTWbC_eOGO5",
        "outputId": "ba6924f3-b979-4953-9d1b-202d752fcdb9"
      },
      "outputs": [
        {
          "name": "stdout",
          "output_type": "stream",
          "text": [
            "Iteration s1:\n",
            "Train scores = (73858.78315117511, 271.7697244933201, 0.6306293469159211, 0.6305988524859141)\n",
            "Test scores = (73871.16394818535, 271.7925016408388, 0.6303151433352268, 0.63019303150073)\n",
            "\n",
            "Iteration s2:\n",
            "Train scores = (74910.1923822463, 273.69726411173036, 0.6258761449916321, 0.6258453844540695)\n",
            "Test scores = (74595.29613452095, 273.12139450164085, 0.6277962501011707, 0.6276738093459298)\n",
            "\n",
            "Iteration s1t:\n",
            "Train scores = (23.40526234504837, 4.837898546378208, 0.6543672464836394, 0.6543387118024939)\n",
            "Test scores = (23.330100827355782, 4.830124307650454, 0.655291482840073, 0.6551776210233441)\n",
            "\n",
            "Iteration s2t:\n",
            "Train scores = (24.46252618482707, 4.945960592728886, 0.6413471609261016, 0.6413176724185375)\n",
            "Test scores = (24.399843834499837, 4.939619806675392, 0.6423668215526843, 0.6422491739564948)\n",
            "\n",
            "Iteration s1s:\n",
            "Train scores = (73854.76032995334, 271.76232323475847, 0.6306494652016352, 0.6306189724325497)\n",
            "Test scores = (73868.43596052274, 271.78748308287254, 0.6303287954245419, 0.6302066880995123)\n",
            "\n",
            "Iteration s2s:\n",
            "Train scores = (74910.19412333179, 273.69726729240796, 0.6258761362961316, 0.6258453757578539)\n",
            "Test scores = (74595.2644184616, 273.12133643943235, 0.6277964083529215, 0.6276739676497394)\n",
            "\n",
            "Iteration s1ts:\n",
            "Train scores = (23.404712895225277, 4.837841760043964, 0.6543753603792444, 0.6543468263679644)\n",
            "Test scores = (23.328921028800817, 4.830002176894004, 0.6553089146811713, 0.6551950586224118)\n",
            "\n",
            "Iteration s2ts:\n",
            "Train scores = (24.462528566040817, 4.945960833451961, 0.641347126014373, 0.6413176375039387)\n",
            "Test scores = (24.39984273888776, 4.939619695774945, 0.6423668376112801, 0.6422491900203733)\n",
            "\n",
            "CPU times: total: 59.3 s\n",
            "Wall time: 45.9 s\n"
          ]
        }
      ],
      "source": [
        "%%time\n",
        "# input_names_ = {'s1': [X1_train, X1_test, Y1_train, Y1_test]}\n",
        "\n",
        "for input in input_names:\n",
        "    X_train, X_test, Y_train, Y_test = input_names[input]\n",
        "\n",
        "    poly_reg = PolynomialFeatures(degree = 2)\n",
        "    X_train_poly = poly_reg.fit_transform(X_train)\n",
        "    X_test_poly = poly_reg.transform(X_test)\n",
        "\n",
        "    reg = LinearRegression()\n",
        "    reg.fit(X_train_poly, Y_train)\n",
        "\n",
        "    Y_train_pred = reg.predict(X_train_poly)\n",
        "    Y_test_pred = reg.predict(X_test_poly)\n",
        "\n",
        "    train_scores = evaluate_model(Y_train, Y_train_pred, X_train_poly)\n",
        "    test_scores = evaluate_model(Y_test, Y_test_pred, X_test_poly)\n",
        "    print(f'Iteration {input}:')\n",
        "    print(f'Train scores = {train_scores}')\n",
        "    print(f'Test scores = {test_scores}\\n')\n",
        "\n",
        "    for i, score in enumerate(score_names):\n",
        "        if 'train' in score:\n",
        "            scores[input][score].append(train_scores[i])\n",
        "        elif 'test' in score:\n",
        "            scores[input][score].append(test_scores[i-4])"
      ]
    },
    {
      "cell_type": "code",
      "execution_count": null,
      "metadata": {
        "id": "iO4QbhfXdhPU"
      },
      "outputs": [],
      "source": [
        "r2s = {'r2_train':[], 'r2_test':[], 'ar2_train':[], 'ar2_test':[]}\n",
        "model_no = 2\n",
        "for input in input_names:\n",
        "  r2s['r2_train'].append(scores[input]['r2_train'][model_no])\n",
        "  r2s['r2_test'].append(scores[input]['r2_test'][model_no])\n",
        "  r2s['ar2_train'].append(scores[input]['adj_r2_train'][model_no])\n",
        "  r2s['ar2_test'].append(scores[input]['adj_r2_test'][model_no])\n",
        "r2s_df = pd.DataFrame(r2s, index = input_names.keys())"
      ]
    },
    {
      "cell_type": "code",
      "execution_count": null,
      "metadata": {
        "id": "heAf3kMedhPU",
        "outputId": "86216ea9-6731-409c-ad21-ff889090d791"
      },
      "outputs": [
        {
          "data": {
            "text/plain": [
              "<AxesSubplot:>"
            ]
          },
          "execution_count": 55,
          "metadata": {},
          "output_type": "execute_result"
        },
        {
          "data": {
            "image/png": "[encoded data removed]",
            "text/plain": [
              "<Figure size 432x288 with 1 Axes>"
            ]
          },
          "metadata": {},
          "output_type": "display_data"
        }
      ],
      "source": [
        "r2s_df.T.iloc[:,:4].plot(marker = 'o')"
      ]
    },
    {
      "cell_type": "code",
      "execution_count": null,
      "metadata": {
        "id": "W_cB3JzMdhPU",
        "outputId": "d18a5359-94ad-4bf6-d914-58619aa4d614"
      },
      "outputs": [
        {
          "data": {
            "text/html": [
              "<div>\n",
              "<style scoped>\n",
              "    .dataframe tbody tr th:only-of-type {\n",
              "        vertical-align: middle;\n",
              "    }\n",
              "\n",
              "    .dataframe tbody tr th {\n",
              "        vertical-align: top;\n",
              "    }\n",
              "\n",
              "    .dataframe thead th {\n",
              "        text-align: right;\n",
              "    }\n",
              "</style>\n",
              "<table border=\"1\" class=\"dataframe\">\n",
              "  <thead>\n",
              "    <tr style=\"text-align: right;\">\n",
              "      <th></th>\n",
              "      <th>s1</th>\n",
              "      <th>s2</th>\n",
              "      <th>s1t</th>\n",
              "      <th>s2t</th>\n",
              "      <th>s1s</th>\n",
              "      <th>s2s</th>\n",
              "      <th>s1ts</th>\n",
              "      <th>s2ts</th>\n",
              "    </tr>\n",
              "  </thead>\n",
              "  <tbody>\n",
              "    <tr>\n",
              "      <th>r2_train</th>\n",
              "      <td>0.630629</td>\n",
              "      <td>0.625876</td>\n",
              "      <td>0.654367</td>\n",
              "      <td>0.641347</td>\n",
              "      <td>0.630649</td>\n",
              "      <td>0.625876</td>\n",
              "      <td>0.654375</td>\n",
              "      <td>0.641347</td>\n",
              "    </tr>\n",
              "    <tr>\n",
              "      <th>r2_test</th>\n",
              "      <td>0.630315</td>\n",
              "      <td>0.627796</td>\n",
              "      <td>0.655291</td>\n",
              "      <td>0.642367</td>\n",
              "      <td>0.630329</td>\n",
              "      <td>0.627796</td>\n",
              "      <td>0.655309</td>\n",
              "      <td>0.642367</td>\n",
              "    </tr>\n",
              "    <tr>\n",
              "      <th>ar2_train</th>\n",
              "      <td>0.630599</td>\n",
              "      <td>0.625845</td>\n",
              "      <td>0.654339</td>\n",
              "      <td>0.641318</td>\n",
              "      <td>0.630619</td>\n",
              "      <td>0.625845</td>\n",
              "      <td>0.654347</td>\n",
              "      <td>0.641318</td>\n",
              "    </tr>\n",
              "    <tr>\n",
              "      <th>ar2_test</th>\n",
              "      <td>0.630193</td>\n",
              "      <td>0.627674</td>\n",
              "      <td>0.655178</td>\n",
              "      <td>0.642249</td>\n",
              "      <td>0.630207</td>\n",
              "      <td>0.627674</td>\n",
              "      <td>0.655195</td>\n",
              "      <td>0.642249</td>\n",
              "    </tr>\n",
              "  </tbody>\n",
              "</table>\n",
              "</div>"
            ],
            "text/plain": [
              "                 s1        s2       s1t       s2t       s1s       s2s  \\\n",
              "r2_train   0.630629  0.625876  0.654367  0.641347  0.630649  0.625876   \n",
              "r2_test    0.630315  0.627796  0.655291  0.642367  0.630329  0.627796   \n",
              "ar2_train  0.630599  0.625845  0.654339  0.641318  0.630619  0.625845   \n",
              "ar2_test   0.630193  0.627674  0.655178  0.642249  0.630207  0.627674   \n",
              "\n",
              "               s1ts      s2ts  \n",
              "r2_train   0.654375  0.641347  \n",
              "r2_test    0.655309  0.642367  \n",
              "ar2_train  0.654347  0.641318  \n",
              "ar2_test   0.655195  0.642249  "
            ]
          },
          "execution_count": 56,
          "metadata": {},
          "output_type": "execute_result"
        }
      ],
      "source": [
        "r2s_df.T"
      ]
    },
    {
      "cell_type": "markdown",
      "metadata": {
        "id": "sW0VGVFMFTg1"
      },
      "source": [
        "### 4. Lasso"
      ]
    },
    {
      "cell_type": "code",
      "execution_count": null,
      "metadata": {
        "id": "ZEvwTmTqHTY_"
      },
      "outputs": [],
      "source": [
        "param_lasso = {'alpha' : [0.00001, 0.001, 0.1, 1]}"
      ]
    },
    {
      "cell_type": "code",
      "execution_count": null,
      "metadata": {
        "colab": {
          "base_uri": "https://localhost:8080/"
        },
        "id": "3E_qrFQaHjiM",
        "outputId": "c28d18c8-e895-4b4c-f9e7-b09594bcb316"
      },
      "outputs": [
        {
          "name": "stdout",
          "output_type": "stream",
          "text": [
            "Iteration s1:\n",
            "Best params = {'alpha': 1e-05}\n",
            "Train scores = (99818.61080189396, 315.940834337529, 0.5008032370859004, 0.5007978028483169)\n",
            "Test scores = (99865.16843789193, 316.01450668899986, 0.5002293383970373, 0.5002075757264786)\n",
            "\n",
            "Iteration s2:\n",
            "Best params = {'alpha': 1e-05}\n",
            "Train scores = (100508.84445297254, 317.03129885387114, 0.49802883755382876, 0.49802339545851126)\n",
            "Test scores = (99950.46368177937, 316.1494325185155, 0.5012830659000649, 0.5012614379571174)\n",
            "\n",
            "Iteration s1t:\n",
            "Best params = {'alpha': 1e-05}\n",
            "Train scores = (28.382062232527204, 5.3274817909146535, 0.5808733021112048, 0.5808687395134016)\n",
            "Test scores = (28.34583346674031, 5.32408052782265, 0.5811826835087995, 0.5811644459771007)\n",
            "\n",
            "Iteration s2t:\n",
            "Best params = {'alpha': 1e-05}\n",
            "Train scores = (29.10313910235598, 5.394732532976587, 0.5733096661334715, 0.5733050401915017)\n",
            "Test scores = (28.937430670459634, 5.3793522537996745, 0.5758585433181131, 0.5758401495027049)\n",
            "\n",
            "Iteration s1s:\n",
            "Best params = {'alpha': 1e-05}\n",
            "Train scores = (99818.61080110265, 315.94083433627674, 0.5008032370898577, 0.5007978028522744)\n",
            "Test scores = (99865.1661198087, 316.01450302131497, 0.5002293499977787, 0.500207587327725)\n",
            "\n",
            "Iteration s2s:\n",
            "Best params = {'alpha': 0.001}\n",
            "Train scores = (100508.84446759638, 317.03129887693484, 0.49802883748079285, 0.4980233953854746)\n",
            "Test scores = (99950.47411145219, 316.1494490133617, 0.5012830138597415, 0.5012613859145372)\n",
            "\n",
            "Iteration s1ts:\n",
            "Best params = {'alpha': 1e-05}\n",
            "Train scores = (28.38206147032988, 5.3274817193801685, 0.5808733133668086, 0.5808687507691278)\n",
            "Test scores = (28.345812904559228, 5.3240785967676345, 0.5811829873205576, 0.5811647498020884)\n",
            "\n",
            "Iteration s2ts:\n",
            "Best params = {'alpha': 1e-05}\n",
            "Train scores = (29.10313834804623, 5.394732463064895, 0.5733096771926454, 0.5733050512507956)\n",
            "Test scores = (28.937389121710726, 5.379348391925432, 0.5758591523060737, 0.5758407585170755)\n",
            "\n",
            "CPU times: total: 2min 12s\n",
            "Wall time: 1min 18s\n"
          ]
        }
      ],
      "source": [
        "%%time\n",
        "# input_names_ = {'s1': [X1_train, X1_test, Y1_train, Y1_test]}\n",
        "\n",
        "for input in input_names:\n",
        "  X_train, X_test, Y_train, Y_test = input_names[input]\n",
        "\n",
        "  lasso = Lasso()\n",
        "  lasso_grid = GridSearchCV(estimator = lasso, param_grid = param_lasso, cv = 5, scoring = 'r2')\n",
        "  lasso_grid.fit(X_train, Y_train)\n",
        "\n",
        "  reg = lasso_grid.best_estimator_\n",
        "  Y_train_pred = reg.predict(X_train)\n",
        "  Y_test_pred = reg.predict(X_test)\n",
        "\n",
        "  train_scores = evaluate_model(Y_train, Y_train_pred, X_train)\n",
        "  test_scores = evaluate_model(Y_test, Y_test_pred, X_test)\n",
        "  print(f'Iteration {input}:')\n",
        "  print(f'Best params = {lasso_grid.best_params_}')\n",
        "  print(f'Train scores = {train_scores}')\n",
        "  print(f'Test scores = {test_scores}\\n')\n",
        "\n",
        "  for i, score in enumerate(score_names):\n",
        "    if 'train' in score:\n",
        "      scores[input][score].append(train_scores[i])\n",
        "    elif 'test' in score:\n",
        "      scores[input][score].append(test_scores[i-4])"
      ]
    },
    {
      "cell_type": "code",
      "execution_count": null,
      "metadata": {
        "id": "SJM5X4s4J_8D"
      },
      "outputs": [],
      "source": [
        "r2s = {'r2_train':[], 'r2_test':[], 'ar2_train':[], 'ar2_test':[]}\n",
        "model_no = 3\n",
        "for input in input_names:\n",
        "  r2s['r2_train'].append(scores[input]['r2_train'][model_no])\n",
        "  r2s['r2_test'].append(scores[input]['r2_test'][model_no])\n",
        "  r2s['ar2_train'].append(scores[input]['adj_r2_train'][model_no])\n",
        "  r2s['ar2_test'].append(scores[input]['adj_r2_test'][model_no])\n",
        "r2s_df = pd.DataFrame(r2s, index = input_names.keys())"
      ]
    },
    {
      "cell_type": "code",
      "execution_count": null,
      "metadata": {
        "colab": {
          "base_uri": "https://localhost:8080/",
          "height": 452
        },
        "id": "-6Zz-q-uKAxS",
        "outputId": "1ee51e03-6dbf-4763-9ee5-801c3c5ad832"
      },
      "outputs": [
        {
          "data": {
            "text/plain": [
              "<AxesSubplot:>"
            ]
          },
          "execution_count": 67,
          "metadata": {},
          "output_type": "execute_result"
        },
        {
          "data": {
            "image/png": "[encoded data removed]",
            "text/plain": [
              "<Figure size 432x288 with 1 Axes>"
            ]
          },
          "metadata": {},
          "output_type": "display_data"
        }
      ],
      "source": [
        "r2s_df.T.iloc[:,:4].plot(marker = 'o')"
      ]
    },
    {
      "cell_type": "code",
      "execution_count": null,
      "metadata": {
        "colab": {
          "base_uri": "https://localhost:8080/",
          "height": 175
        },
        "id": "aZqy9bzmKC98",
        "outputId": "bd4c394b-b3ca-4882-c587-a2fb55db1aaa"
      },
      "outputs": [
        {
          "data": {
            "text/html": [
              "<div>\n",
              "<style scoped>\n",
              "    .dataframe tbody tr th:only-of-type {\n",
              "        vertical-align: middle;\n",
              "    }\n",
              "\n",
              "    .dataframe tbody tr th {\n",
              "        vertical-align: top;\n",
              "    }\n",
              "\n",
              "    .dataframe thead th {\n",
              "        text-align: right;\n",
              "    }\n",
              "</style>\n",
              "<table border=\"1\" class=\"dataframe\">\n",
              "  <thead>\n",
              "    <tr style=\"text-align: right;\">\n",
              "      <th></th>\n",
              "      <th>s1</th>\n",
              "      <th>s2</th>\n",
              "      <th>s1t</th>\n",
              "      <th>s2t</th>\n",
              "      <th>s1s</th>\n",
              "      <th>s2s</th>\n",
              "      <th>s1ts</th>\n",
              "      <th>s2ts</th>\n",
              "    </tr>\n",
              "  </thead>\n",
              "  <tbody>\n",
              "    <tr>\n",
              "      <th>r2_train</th>\n",
              "      <td>0.500803</td>\n",
              "      <td>0.498029</td>\n",
              "      <td>0.580873</td>\n",
              "      <td>0.573310</td>\n",
              "      <td>0.500803</td>\n",
              "      <td>0.498029</td>\n",
              "      <td>0.580873</td>\n",
              "      <td>0.573310</td>\n",
              "    </tr>\n",
              "    <tr>\n",
              "      <th>r2_test</th>\n",
              "      <td>0.500229</td>\n",
              "      <td>0.501283</td>\n",
              "      <td>0.581183</td>\n",
              "      <td>0.575859</td>\n",
              "      <td>0.500229</td>\n",
              "      <td>0.501283</td>\n",
              "      <td>0.581183</td>\n",
              "      <td>0.575859</td>\n",
              "    </tr>\n",
              "    <tr>\n",
              "      <th>ar2_train</th>\n",
              "      <td>0.500798</td>\n",
              "      <td>0.498023</td>\n",
              "      <td>0.580869</td>\n",
              "      <td>0.573305</td>\n",
              "      <td>0.500798</td>\n",
              "      <td>0.498023</td>\n",
              "      <td>0.580869</td>\n",
              "      <td>0.573305</td>\n",
              "    </tr>\n",
              "    <tr>\n",
              "      <th>ar2_test</th>\n",
              "      <td>0.500208</td>\n",
              "      <td>0.501261</td>\n",
              "      <td>0.581164</td>\n",
              "      <td>0.575840</td>\n",
              "      <td>0.500208</td>\n",
              "      <td>0.501261</td>\n",
              "      <td>0.581165</td>\n",
              "      <td>0.575841</td>\n",
              "    </tr>\n",
              "  </tbody>\n",
              "</table>\n",
              "</div>"
            ],
            "text/plain": [
              "                 s1        s2       s1t       s2t       s1s       s2s  \\\n",
              "r2_train   0.500803  0.498029  0.580873  0.573310  0.500803  0.498029   \n",
              "r2_test    0.500229  0.501283  0.581183  0.575859  0.500229  0.501283   \n",
              "ar2_train  0.500798  0.498023  0.580869  0.573305  0.500798  0.498023   \n",
              "ar2_test   0.500208  0.501261  0.581164  0.575840  0.500208  0.501261   \n",
              "\n",
              "               s1ts      s2ts  \n",
              "r2_train   0.580873  0.573310  \n",
              "r2_test    0.581183  0.575859  \n",
              "ar2_train  0.580869  0.573305  \n",
              "ar2_test   0.581165  0.575841  "
            ]
          },
          "execution_count": 68,
          "metadata": {},
          "output_type": "execute_result"
        }
      ],
      "source": [
        "r2s_df.T"
      ]
    },
    {
      "cell_type": "markdown",
      "metadata": {
        "id": "fni_6-9RKHkV"
      },
      "source": [
        "### 5. Ridge"
      ]
    },
    {
      "cell_type": "code",
      "execution_count": null,
      "metadata": {
        "id": "KJ-Ck7slKR5X"
      },
      "outputs": [],
      "source": [
        "param_ridge = {'alpha' : [0.000001, 0.00001, 0.001, 0.1, 1, 10]}"
      ]
    },
    {
      "cell_type": "code",
      "execution_count": null,
      "metadata": {
        "colab": {
          "base_uri": "https://localhost:8080/"
        },
        "id": "ebDLO6dGKgOT",
        "outputId": "c2b5f605-24b6-4ccf-bad5-ee16e77d1a94"
      },
      "outputs": [
        {
          "name": "stdout",
          "output_type": "stream",
          "text": [
            "Iteration s1:\n",
            "Best params = {'alpha': 1e-05}\n",
            "Train scores = (99818.61089597101, 315.940834486413, 0.5008032366154174, 0.5007978023778288)\n",
            "Test scores = (99865.20486441896, 316.01456432325864, 0.500229156102151, 0.5002073934236542)\n",
            "\n",
            "Iteration s2:\n",
            "Best params = {'alpha': 1e-05}\n",
            "Train scores = (100508.84454361217, 317.0312989968217, 0.4980288371011474, 0.49802339500582504)\n",
            "Test scores = (99950.49248276283, 316.1494780681487, 0.5012829221934961, 0.5012612942443164)\n",
            "\n",
            "Iteration s1t:\n",
            "Best params = {'alpha': 1e-05}\n",
            "Train scores = (28.382061487294575, 5.327481720972356, 0.5808733131162858, 0.5808687505186023)\n",
            "Test scores = (28.345815605407573, 5.3240788504123016, 0.5811829474147967, 0.5811647098945898)\n",
            "\n",
            "Iteration s2t:\n",
            "Best params = {'alpha': 1e-05}\n",
            "Train scores = (29.10313836323419, 5.394732464472561, 0.5733096769699699, 0.5733050510281177)\n",
            "Test scores = (28.937393277790893, 5.379348778225008, 0.5758590913896116, 0.5758406975979716)\n",
            "\n",
            "Iteration s1s:\n",
            "Best params = {'alpha': 1e-05}\n",
            "Train scores = (99818.61081594709, 315.94083435976916, 0.5008032370156201, 0.500797802778036)\n",
            "Test scores = (99865.17004426612, 316.01450923061446, 0.5002293303580112, 0.5002075676871023)\n",
            "\n",
            "Iteration s2s:\n",
            "Best params = {'alpha': 1e-05}\n",
            "Train scores = (100508.84446632248, 317.0312988749257, 0.4980288374871552, 0.49802339539183704)\n",
            "Test scores = (99950.47073266884, 316.1494436697127, 0.5012830307186575, 0.5012614027741843)\n",
            "\n",
            "Iteration s1ts:\n",
            "Best params = {'alpha': 1e-05}\n",
            "Train scores = (28.382061473758874, 5.32748171970199, 0.5808733133161716, 0.5808687507184903)\n",
            "Test scores = (28.345813015442424, 5.324078607181004, 0.5811829856822286, 0.581164748163688)\n",
            "\n",
            "Iteration s2ts:\n",
            "Best params = {'alpha': 1e-05}\n",
            "Train scores = (29.103138351297666, 5.394732463366248, 0.573309677144975, 0.5733050512031247)\n",
            "Test scores = (28.93739000572752, 5.379348474093077, 0.5758591393488703, 0.5758407455593102)\n",
            "\n",
            "CPU times: total: 1min 16s\n",
            "Wall time: 41.6 s\n"
          ]
        }
      ],
      "source": [
        "%%time\n",
        "# input_names_ = {'s1': [X1_train, X1_test, Y1_train, Y1_test]}\n",
        "\n",
        "for input in input_names:\n",
        "  X_train, X_test, Y_train, Y_test = input_names[input]\n",
        "\n",
        "  ridge = Ridge()\n",
        "  ridge_grid = GridSearchCV(estimator = ridge, param_grid = param_ridge, cv = 5, scoring = 'r2')\n",
        "  ridge_grid.fit(X_train, Y_train)\n",
        "\n",
        "  reg = ridge_grid.best_estimator_\n",
        "  Y_train_pred = reg.predict(X_train)\n",
        "  Y_test_pred = reg.predict(X_test)\n",
        "\n",
        "  train_scores = evaluate_model(Y_train, Y_train_pred, X_train)\n",
        "  test_scores = evaluate_model(Y_test, Y_test_pred, X_test)\n",
        "  print(f'Iteration {input}:')\n",
        "  print(f'Best params = {lasso_grid.best_params_}')\n",
        "  print(f'Train scores = {train_scores}')\n",
        "  print(f'Test scores = {test_scores}\\n')\n",
        "\n",
        "  for i, score in enumerate(score_names):\n",
        "    if 'train' in score:\n",
        "      scores[input][score].append(train_scores[i])\n",
        "    elif 'test' in score:\n",
        "      scores[input][score].append(test_scores[i-4])"
      ]
    },
    {
      "cell_type": "code",
      "execution_count": null,
      "metadata": {
        "id": "FHTxBVmxMDF7"
      },
      "outputs": [],
      "source": [
        "r2s = {'r2_train':[], 'r2_test':[], 'ar2_train':[], 'ar2_test':[]}\n",
        "model_no = 4\n",
        "for input in input_names:\n",
        "  r2s['r2_train'].append(scores[input]['r2_train'][model_no])\n",
        "  r2s['r2_test'].append(scores[input]['r2_test'][model_no])\n",
        "  r2s['ar2_train'].append(scores[input]['adj_r2_train'][model_no])\n",
        "  r2s['ar2_test'].append(scores[input]['adj_r2_test'][model_no])\n",
        "r2s_df = pd.DataFrame(r2s, index = input_names.keys())"
      ]
    },
    {
      "cell_type": "code",
      "execution_count": null,
      "metadata": {
        "colab": {
          "base_uri": "https://localhost:8080/",
          "height": 452
        },
        "id": "ECbpqp0iMDfU",
        "outputId": "a35fa4e8-f874-438b-958a-3c8c30dea4a3"
      },
      "outputs": [
        {
          "data": {
            "text/plain": [
              "<AxesSubplot:>"
            ]
          },
          "execution_count": 74,
          "metadata": {},
          "output_type": "execute_result"
        },
        {
          "data": {
            "image/png": "[encoded data removed]",
            "text/plain": [
              "<Figure size 432x288 with 1 Axes>"
            ]
          },
          "metadata": {},
          "output_type": "display_data"
        }
      ],
      "source": [
        "r2s_df.T.iloc[:,:4].plot(marker = 'o')"
      ]
    },
    {
      "cell_type": "code",
      "execution_count": null,
      "metadata": {
        "colab": {
          "base_uri": "https://localhost:8080/",
          "height": 175
        },
        "id": "kTGYMekIMGtM",
        "outputId": "2096159a-bb78-4efd-a3e6-7ee177e504e5"
      },
      "outputs": [
        {
          "data": {
            "text/html": [
              "<div>\n",
              "<style scoped>\n",
              "    .dataframe tbody tr th:only-of-type {\n",
              "        vertical-align: middle;\n",
              "    }\n",
              "\n",
              "    .dataframe tbody tr th {\n",
              "        vertical-align: top;\n",
              "    }\n",
              "\n",
              "    .dataframe thead th {\n",
              "        text-align: right;\n",
              "    }\n",
              "</style>\n",
              "<table border=\"1\" class=\"dataframe\">\n",
              "  <thead>\n",
              "    <tr style=\"text-align: right;\">\n",
              "      <th></th>\n",
              "      <th>s1</th>\n",
              "      <th>s2</th>\n",
              "      <th>s1t</th>\n",
              "      <th>s2t</th>\n",
              "      <th>s1s</th>\n",
              "      <th>s2s</th>\n",
              "      <th>s1ts</th>\n",
              "      <th>s2ts</th>\n",
              "    </tr>\n",
              "  </thead>\n",
              "  <tbody>\n",
              "    <tr>\n",
              "      <th>r2_train</th>\n",
              "      <td>0.500803</td>\n",
              "      <td>0.498029</td>\n",
              "      <td>0.580873</td>\n",
              "      <td>0.573310</td>\n",
              "      <td>0.500803</td>\n",
              "      <td>0.498029</td>\n",
              "      <td>0.580873</td>\n",
              "      <td>0.573310</td>\n",
              "    </tr>\n",
              "    <tr>\n",
              "      <th>r2_test</th>\n",
              "      <td>0.500229</td>\n",
              "      <td>0.501283</td>\n",
              "      <td>0.581183</td>\n",
              "      <td>0.575859</td>\n",
              "      <td>0.500229</td>\n",
              "      <td>0.501283</td>\n",
              "      <td>0.581183</td>\n",
              "      <td>0.575859</td>\n",
              "    </tr>\n",
              "    <tr>\n",
              "      <th>ar2_train</th>\n",
              "      <td>0.500798</td>\n",
              "      <td>0.498023</td>\n",
              "      <td>0.580869</td>\n",
              "      <td>0.573305</td>\n",
              "      <td>0.500798</td>\n",
              "      <td>0.498023</td>\n",
              "      <td>0.580869</td>\n",
              "      <td>0.573305</td>\n",
              "    </tr>\n",
              "    <tr>\n",
              "      <th>ar2_test</th>\n",
              "      <td>0.500207</td>\n",
              "      <td>0.501261</td>\n",
              "      <td>0.581165</td>\n",
              "      <td>0.575841</td>\n",
              "      <td>0.500208</td>\n",
              "      <td>0.501261</td>\n",
              "      <td>0.581165</td>\n",
              "      <td>0.575841</td>\n",
              "    </tr>\n",
              "  </tbody>\n",
              "</table>\n",
              "</div>"
            ],
            "text/plain": [
              "                 s1        s2       s1t       s2t       s1s       s2s  \\\n",
              "r2_train   0.500803  0.498029  0.580873  0.573310  0.500803  0.498029   \n",
              "r2_test    0.500229  0.501283  0.581183  0.575859  0.500229  0.501283   \n",
              "ar2_train  0.500798  0.498023  0.580869  0.573305  0.500798  0.498023   \n",
              "ar2_test   0.500207  0.501261  0.581165  0.575841  0.500208  0.501261   \n",
              "\n",
              "               s1ts      s2ts  \n",
              "r2_train   0.580873  0.573310  \n",
              "r2_test    0.581183  0.575859  \n",
              "ar2_train  0.580869  0.573305  \n",
              "ar2_test   0.581165  0.575841  "
            ]
          },
          "execution_count": 75,
          "metadata": {},
          "output_type": "execute_result"
        }
      ],
      "source": [
        "r2s_df.T"
      ]
    },
    {
      "cell_type": "markdown",
      "metadata": {
        "id": "inuwUkR1eCcY"
      },
      "source": [
        "### 6. ELastic Net"
      ]
    },
    {
      "cell_type": "code",
      "execution_count": null,
      "metadata": {
        "id": "43u3m0Z-eF7N"
      },
      "outputs": [],
      "source": [
        "param_elastic = {'alpha' : [0.00001, 0.001, 0.1, 10], 'l1_ratio' : [0.1, 0.5, 0.9]}"
      ]
    },
    {
      "cell_type": "code",
      "execution_count": null,
      "metadata": {
        "colab": {
          "base_uri": "https://localhost:8080/"
        },
        "id": "e8pn8guvgpgo",
        "outputId": "887519fb-3418-432b-858b-042f26a828cb"
      },
      "outputs": [
        {
          "name": "stdout",
          "output_type": "stream",
          "text": [
            "Iteration s1:\n",
            "Best params = {'alpha': 1e-05, 'l1_ratio': 0.9}\n",
            "Train scores = (99818.62244110637, 315.94085275745266, 0.5008031788777454, 0.5007977446395283)\n",
            "Test scores = (99865.60578208616, 316.01519865678324, 0.5002271497280477, 0.5002053869621826)\n",
            "\n",
            "Iteration s2:\n",
            "Best params = {'alpha': 1e-05, 'l1_ratio': 0.9}\n",
            "Train scores = (100508.8557599482, 317.03131668645636, 0.4980287810834182, 0.4980233389874885)\n",
            "Test scores = (99950.83247961168, 316.1500157830325, 0.5012812257312707, 0.5012595977085201)\n",
            "\n",
            "Iteration s1t:\n",
            "Best params = {'alpha': 1e-05, 'l1_ratio': 0.9}\n",
            "Train scores = (28.382066585587395, 5.327482199462275, 0.5808732378282175, 0.5808686752297145)\n",
            "Test scores = (28.345879480231144, 5.324084849082624, 0.5811820036470916, 0.581163766085788)\n",
            "\n",
            "Iteration s2t:\n",
            "Best params = {'alpha': 1e-05, 'l1_ratio': 0.9}\n",
            "Train scores = (29.103143126251418, 5.394732905923278, 0.5733096071378667, 0.5733049811952574)\n",
            "Test scores = (28.937492406771764, 5.379357992062971, 0.575857638437177, 0.5758392445825266)\n",
            "\n",
            "Iteration s1s:\n",
            "Best params = {'alpha': 1e-05, 'l1_ratio': 0.1}\n",
            "Train scores = (99818.61081573296, 315.94083435943026, 0.500803237016691, 0.5007978027791069)\n",
            "Test scores = (99865.17002237185, 316.01450919597323, 0.5002293304675802, 0.5002075677966762)\n",
            "\n",
            "Iteration s2s:\n",
            "Best params = {'alpha': 1e-05, 'l1_ratio': 0.1}\n",
            "Train scores = (100508.84446623342, 317.03129887478525, 0.49802883748759996, 0.4980233953922818)\n",
            "Test scores = (99950.47070606952, 316.14944362764504, 0.5012830308513785, 0.5012614029069109)\n",
            "\n",
            "Iteration s1ts:\n",
            "Best params = {'alpha': 1e-05, 'l1_ratio': 0.1}\n",
            "Train scores = (28.382061473994177, 5.327481719724074, 0.5808733133126968, 0.5808687507150154)\n",
            "Test scores = (28.345813138308003, 5.324078618719675, 0.5811829838668566, 0.581164746348237)\n",
            "\n",
            "Iteration s2ts:\n",
            "Best params = {'alpha': 1e-05, 'l1_ratio': 0.1}\n",
            "Train scores = (29.10313835155639, 5.394732463390227, 0.5733096771411819, 0.5733050511993314)\n",
            "Test scores = (28.937390145086415, 5.379348487046216, 0.5758591373062605, 0.5758407435166117)\n",
            "\n",
            "CPU times: user 8min 21s, sys: 2min 5s, total: 10min 27s\n",
            "Wall time: 7min 39s\n"
          ]
        }
      ],
      "source": [
        "%%time\n",
        "# input_names_ = {'s1': [X1_train, X1_test, Y1_train, Y1_test]}\n",
        "\n",
        "for input in input_names:\n",
        "  X_train, X_test, Y_train, Y_test = input_names[input]\n",
        "\n",
        "  elastic = ElasticNet()\n",
        "  elastic_grid = GridSearchCV(estimator = elastic, param_grid = param_elastic, cv = 5, scoring = 'r2')\n",
        "  elastic_grid.fit(X_train, Y_train)\n",
        "\n",
        "  reg = elastic_grid.best_estimator_\n",
        "  Y_train_pred = reg.predict(X_train)\n",
        "  Y_test_pred = reg.predict(X_test)\n",
        "\n",
        "  train_scores = evaluate_model(Y_train, Y_train_pred, X_train)\n",
        "  test_scores = evaluate_model(Y_test, Y_test_pred, X_test)\n",
        "  print(f'Iteration {input}:')\n",
        "  print(f'Best params = {elastic_grid.best_params_}')\n",
        "  print(f'Train scores = {train_scores}')\n",
        "  print(f'Test scores = {test_scores}\\n')\n",
        "\n",
        "  for i, score in enumerate(score_names):\n",
        "    if 'train' in score:\n",
        "      scores[input][score].append(train_scores[i])\n",
        "    elif 'test' in score:\n",
        "      scores[input][score].append(test_scores[i-4])"
      ]
    },
    {
      "cell_type": "code",
      "execution_count": null,
      "metadata": {
        "id": "i2Wyu_i4h_q-"
      },
      "outputs": [],
      "source": [
        "r2s = {'r2_train':[], 'r2_test':[], 'ar2_train':[], 'ar2_test':[]}\n",
        "model_no = 5\n",
        "for input in input_names:\n",
        "  r2s['r2_train'].append(scores[input]['r2_train'][model_no])\n",
        "  r2s['r2_test'].append(scores[input]['r2_test'][model_no])\n",
        "  r2s['ar2_train'].append(scores[input]['adj_r2_train'][model_no])\n",
        "  r2s['ar2_test'].append(scores[input]['adj_r2_test'][model_no])\n",
        "r2s_df = pd.DataFrame(r2s, index = input_names.keys())"
      ]
    },
    {
      "cell_type": "code",
      "execution_count": null,
      "metadata": {
        "colab": {
          "base_uri": "https://localhost:8080/",
          "height": 452
        },
        "id": "m-TSJqQniFuD",
        "outputId": "69e82bed-c37c-4148-eb87-c391ba993fee"
      },
      "outputs": [
        {
          "data": {
            "text/plain": [
              "<Axes: >"
            ]
          },
          "execution_count": 65,
          "metadata": {},
          "output_type": "execute_result"
        },
        {
          "data": {
            "image/png": "[encoded data removed]",
            "text/plain": [
              "<Figure size 640x480 with 1 Axes>"
            ]
          },
          "metadata": {},
          "output_type": "display_data"
        }
      ],
      "source": [
        "r2s_df.T.iloc[:,:4].plot(marker = 'o')"
      ]
    },
    {
      "cell_type": "code",
      "execution_count": null,
      "metadata": {
        "colab": {
          "base_uri": "https://localhost:8080/",
          "height": 175
        },
        "id": "MwJ6iQLaiIJP",
        "outputId": "ffb82fa9-0072-4683-fabb-3d33727dcdd0"
      },
      "outputs": [
        {
          "data": {
            "text/html": [
              "\n",
              "  <div id=\"df-8a225dfa-6782-4b9c-b954-6997430842b5\">\n",
              "    <div class=\"colab-df-container\">\n",
              "      <div>\n",
              "<style scoped>\n",
              "    .dataframe tbody tr th:only-of-type {\n",
              "        vertical-align: middle;\n",
              "    }\n",
              "\n",
              "    .dataframe tbody tr th {\n",
              "        vertical-align: top;\n",
              "    }\n",
              "\n",
              "    .dataframe thead th {\n",
              "        text-align: right;\n",
              "    }\n",
              "</style>\n",
              "<table border=\"1\" class=\"dataframe\">\n",
              "  <thead>\n",
              "    <tr style=\"text-align: right;\">\n",
              "      <th></th>\n",
              "      <th>s1</th>\n",
              "      <th>s2</th>\n",
              "      <th>s1t</th>\n",
              "      <th>s2t</th>\n",
              "      <th>s1s</th>\n",
              "      <th>s2s</th>\n",
              "      <th>s1ts</th>\n",
              "      <th>s2ts</th>\n",
              "    </tr>\n",
              "  </thead>\n",
              "  <tbody>\n",
              "    <tr>\n",
              "      <th>r2_train</th>\n",
              "      <td>0.500803</td>\n",
              "      <td>0.498029</td>\n",
              "      <td>0.580873</td>\n",
              "      <td>0.573310</td>\n",
              "      <td>0.500803</td>\n",
              "      <td>0.498029</td>\n",
              "      <td>0.580873</td>\n",
              "      <td>0.573310</td>\n",
              "    </tr>\n",
              "    <tr>\n",
              "      <th>r2_test</th>\n",
              "      <td>0.500227</td>\n",
              "      <td>0.501281</td>\n",
              "      <td>0.581182</td>\n",
              "      <td>0.575858</td>\n",
              "      <td>0.500229</td>\n",
              "      <td>0.501283</td>\n",
              "      <td>0.581183</td>\n",
              "      <td>0.575859</td>\n",
              "    </tr>\n",
              "    <tr>\n",
              "      <th>ar2_train</th>\n",
              "      <td>0.500798</td>\n",
              "      <td>0.498023</td>\n",
              "      <td>0.580869</td>\n",
              "      <td>0.573305</td>\n",
              "      <td>0.500798</td>\n",
              "      <td>0.498023</td>\n",
              "      <td>0.580869</td>\n",
              "      <td>0.573305</td>\n",
              "    </tr>\n",
              "    <tr>\n",
              "      <th>ar2_test</th>\n",
              "      <td>0.500205</td>\n",
              "      <td>0.501260</td>\n",
              "      <td>0.581164</td>\n",
              "      <td>0.575839</td>\n",
              "      <td>0.500208</td>\n",
              "      <td>0.501261</td>\n",
              "      <td>0.581165</td>\n",
              "      <td>0.575841</td>\n",
              "    </tr>\n",
              "  </tbody>\n",
              "</table>\n",
              "</div>\n",
              "      <button class=\"colab-df-convert\" onclick=\"convertToInteractive('df-8a225dfa-6782-4b9c-b954-6997430842b5')\"\n",
              "              title=\"Convert this dataframe to an interactive table.\"\n",
              "              style=\"display:none;\">\n",
              "        \n",
              "  <svg xmlns=\"http://www.w3.org/2000/svg\" height=\"24px\"viewBox=\"0 0 24 24\"\n",
              "       width=\"24px\">\n",
              "    <path d=\"M0 0h24v24H0V0z\" fill=\"none\"/>\n",
              "    <path d=\"M18.56 5.44l.94 2.06.94-2.06 2.06-.94-2.06-.94-.94-2.06-.94 2.06-2.06.94zm-11 1L8.5 8.5l.94-2.06 2.06-.94-2.06-.94L8.5 2.5l-.94 2.06-2.06.94zm10 10l.94 2.06.94-2.06 2.06-.94-2.06-.94-.94-2.06-.94 2.06-2.06.94z\"/><path d=\"M17.41 7.96l-1.37-1.37c-.4-.4-.92-.59-1.43-.59-.52 0-1.04.2-1.43.59L10.3 9.45l-7.72 7.72c-.78.78-.78 2.05 0 2.83L4 21.41c.39.39.9.59 1.41.59.51 0 1.02-.2 1.41-.59l7.78-7.78 2.81-2.81c.8-.78.8-2.07 0-2.86zM5.41 20L4 18.59l7.72-7.72 1.47 1.35L5.41 20z\"/>\n",
              "  </svg>\n",
              "      </button>\n",
              "      \n",
              "  <style>\n",
              "    .colab-df-container {\n",
              "      display:flex;\n",
              "      flex-wrap:wrap;\n",
              "      gap: 12px;\n",
              "    }\n",
              "\n",
              "    .colab-df-convert {\n",
              "      background-color: #E8F0FE;\n",
              "      border: none;\n",
              "      border-radius: 50%;\n",
              "      cursor: pointer;\n",
              "      display: none;\n",
              "      fill: #1967D2;\n",
              "      height: 32px;\n",
              "      padding: 0 0 0 0;\n",
              "      width: 32px;\n",
              "    }\n",
              "\n",
              "    .colab-df-convert:hover {\n",
              "      background-color: #E2EBFA;\n",
              "      box-shadow: 0px 1px 2px rgba(60, 64, 67, 0.3), 0px 1px 3px 1px rgba(60, 64, 67, 0.15);\n",
              "      fill: #174EA6;\n",
              "    }\n",
              "\n",
              "    [theme=dark] .colab-df-convert {\n",
              "      background-color: #3B4455;\n",
              "      fill: #D2E3FC;\n",
              "    }\n",
              "\n",
              "    [theme=dark] .colab-df-convert:hover {\n",
              "      background-color: #434B5C;\n",
              "      box-shadow: 0px 1px 3px 1px rgba(0, 0, 0, 0.15);\n",
              "      filter: drop-shadow(0px 1px 2px rgba(0, 0, 0, 0.3));\n",
              "      fill: #FFFFFF;\n",
              "    }\n",
              "  </style>\n",
              "\n",
              "      <script>\n",
              "        const buttonEl =\n",
              "          document.querySelector('#df-8a225dfa-6782-4b9c-b954-6997430842b5 button.colab-df-convert');\n",
              "        buttonEl.style.display =\n",
              "          google.colab.kernel.accessAllowed ? 'block' : 'none';\n",
              "\n",
              "        async function convertToInteractive(key) {\n",
              "          const element = document.querySelector('#df-8a225dfa-6782-4b9c-b954-6997430842b5');\n",
              "          const dataTable =\n",
              "            await google.colab.kernel.invokeFunction('convertToInteractive',\n",
              "                                                     [key], {});\n",
              "          if (!dataTable) return;\n",
              "\n",
              "          const docLinkHtml = 'Like what you see? Visit the ' +\n",
              "            '<a target=\"_blank\" href=https://colab.research.google.com/notebooks/data_table.ipynb>data table notebook</a>'\n",
              "            + ' to learn more about interactive tables.';\n",
              "          element.innerHTML = '';\n",
              "          dataTable['output_type'] = 'display_data';\n",
              "          await google.colab.output.renderOutput(dataTable, element);\n",
              "          const docLink = document.createElement('div');\n",
              "          docLink.innerHTML = docLinkHtml;\n",
              "          element.appendChild(docLink);\n",
              "        }\n",
              "      </script>\n",
              "    </div>\n",
              "  </div>\n",
              "  "
            ],
            "text/plain": [
              "                 s1        s2       s1t       s2t       s1s       s2s  \\\n",
              "r2_train   0.500803  0.498029  0.580873  0.573310  0.500803  0.498029   \n",
              "r2_test    0.500227  0.501281  0.581182  0.575858  0.500229  0.501283   \n",
              "ar2_train  0.500798  0.498023  0.580869  0.573305  0.500798  0.498023   \n",
              "ar2_test   0.500205  0.501260  0.581164  0.575839  0.500208  0.501261   \n",
              "\n",
              "               s1ts      s2ts  \n",
              "r2_train   0.580873  0.573310  \n",
              "r2_test    0.581183  0.575859  \n",
              "ar2_train  0.580869  0.573305  \n",
              "ar2_test   0.581165  0.575841  "
            ]
          },
          "execution_count": 66,
          "metadata": {},
          "output_type": "execute_result"
        }
      ],
      "source": [
        "r2s_df.T"
      ]
    },
    {
      "cell_type": "markdown",
      "metadata": {
        "id": "eE7AVWnSi1V9"
      },
      "source": [
        "### 7. XGBoost"
      ]
    },
    {
      "cell_type": "code",
      "execution_count": null,
      "metadata": {
        "id": "MSPQOjYIbCbb"
      },
      "outputs": [],
      "source": [
        "# param_xg = {'max_depth' : [20, 25], 'learning_rate' : [0.01, 0.1, 0.3], 'n_estimators' : [50, 100, 150]}\n",
        "\n",
        "param_xg = {'max_depth' : [15], 'learning_rate' : [0.1], 'n_estimators' : [80, 100]}"
      ]
    },
    {
      "cell_type": "code",
      "execution_count": null,
      "metadata": {
        "id": "NcytrmqIbDTA",
        "outputId": "830996ba-ceba-40e8-d6e2-f06d1bf26d34"
      },
      "outputs": [
        {
          "name": "stdout",
          "output_type": "stream",
          "text": [
            "Iteration s1:\n",
            "Best params = {'learning_rate': 0.1, 'max_depth': 15, 'n_estimators': 100}\n",
            "Train scores = (17185.15128871975, 131.09214808187312, 0.9140563886373463, 0.914055453058357)\n",
            "Test scores = (39874.550178529906, 199.6861291590628, 0.8004496398938323, 0.8004409504106743)\n",
            "\n",
            "Iteration s2:\n",
            "Best params = {'learning_rate': 0.1, 'max_depth': 15, 'n_estimators': 100}\n",
            "Train scores = (17881.828910030006, 133.7229558080063, 0.9106928102349121, 0.9106918420154693)\n",
            "Test scores = (40577.199637184945, 201.43783070015658, 0.7975343399921923, 0.7975255596291364)\n",
            "\n",
            "Iteration s1t:\n",
            "Best params = {'learning_rate': 0.1, 'max_depth': 15, 'n_estimators': 100}\n",
            "Train scores = (5.94430382949715, 2.438094302831035, 0.9122186254510577, 0.912217669866246)\n",
            "Test scores = (12.828545889939221, 3.581695951632302, 0.8104547826962725, 0.8104465288902027)\n",
            "\n",
            "Iteration s2t:\n",
            "Best params = {'learning_rate': 0.1, 'max_depth': 15, 'n_estimators': 100}\n",
            "Train scores = (5.983698648993738, 2.4461599802534866, 0.9122711001958841, 0.9122701490873931)\n",
            "Test scores = (13.231804312866048, 3.637554716133635, 0.8060589131184418, 0.806050502442013)\n",
            "\n",
            "Iteration s1s:\n",
            "Best params = {'learning_rate': 0.1, 'max_depth': 15, 'n_estimators': 100}\n",
            "Train scores = (17628.177261370154, 132.7711461928764, 0.9118407984817902, 0.911839838783968)\n",
            "Test scores = (40048.3100160989, 200.120738595726, 0.7995800667449532, 0.799571339395959)\n",
            "\n",
            "Iteration s2s:\n",
            "Best params = {'learning_rate': 0.1, 'max_depth': 15, 'n_estimators': 100}\n",
            "Train scores = (17785.97730897392, 133.36407803068232, 0.9111715217340476, 0.9111705587045316)\n",
            "Test scores = (40382.91143367289, 200.95499852870765, 0.7985037683831981, 0.7984950300615099)\n",
            "\n",
            "Iteration s1ts:\n",
            "Best params = {'learning_rate': 0.1, 'max_depth': 15, 'n_estimators': 100}\n",
            "Train scores = (6.03648689643983, 2.4569263107467894, 0.9108573295687357, 0.910856359164907)\n",
            "Test scores = (12.818408699167389, 3.5802805335849577, 0.8106045624175426, 0.810596315133678)\n",
            "\n",
            "Iteration s2ts:\n",
            "Best params = {'learning_rate': 0.1, 'max_depth': 15, 'n_estimators': 100}\n",
            "Train scores = (5.871411588867324, 2.4230995829448125, 0.9139173763245768, 0.9139164430641064)\n",
            "Test scores = (13.205973389033094, 3.6340023925464187, 0.806437521910173, 0.8064291276529367)\n",
            "\n",
            "CPU times: total: 2h 49min 3s\n",
            "Wall time: 7h 49min 17s\n"
          ]
        }
      ],
      "source": [
        "%%time\n",
        "# input_names_ = {'s1': [X1_train, X1_test, Y1_train, Y1_test]}\n",
        "\n",
        "for input in input_names:\n",
        "  X_train, X_test, Y_train, Y_test = input_names[input]\n",
        "  xg = xgb.XGBRegressor()\n",
        "  xg_grid = GridSearchCV(estimator = xg, param_grid = param_xg, cv = 5, scoring = 'r2', n_jobs = 3)\n",
        "  xg_grid.fit(X_train, Y_train)\n",
        "\n",
        "  reg = xg_grid.best_estimator_\n",
        "  Y_train_pred = reg.predict(X_train)\n",
        "  Y_test_pred = reg.predict(X_test)\n",
        "\n",
        "  train_scores = evaluate_model(Y_train, Y_train_pred, X_train)\n",
        "  test_scores = evaluate_model(Y_test, Y_test_pred, X_test)\n",
        "  print(f'Iteration {input}:')\n",
        "  print(f'Best params = {xg_grid.best_params_}')\n",
        "  print(f'Train scores = {train_scores}')\n",
        "  print(f'Test scores = {test_scores}\\n')\n",
        "\n",
        "  for i, score in enumerate(score_names):\n",
        "    if 'train' in score:\n",
        "      scores[input][score].append(train_scores[i])\n",
        "    elif 'test' in score:\n",
        "      scores[input][score].append(test_scores[i-4])"
      ]
    },
    {
      "cell_type": "code",
      "execution_count": null,
      "metadata": {
        "id": "HqEopvAna8ye"
      },
      "outputs": [],
      "source": [
        "# Best params = {'learning_rate': 0.1, 'max_depth': 15, 'n_estimators': 80}\n",
        "# Train scores = (18696.025470614226, 136.733410220817, 0.9065004479694372, 0.9064994301367559)\n",
        "# Test scores = (40295.50115847913, 200.73739352317776, 0.7983430099943146, 0.7983342287772954)\n",
        "\n",
        "# CPU times: total: 10min 40s\n",
        "# Wall time: 22min 14s"
      ]
    },
    {
      "cell_type": "code",
      "execution_count": null,
      "metadata": {
        "id": "woT15Ca-bX2j"
      },
      "outputs": [],
      "source": [
        "r2s = {'r2_train':[], 'r2_test':[], 'ar2_train':[], 'ar2_test':[]}\n",
        "model_no = 6\n",
        "for input in input_names:\n",
        "  r2s['r2_train'].append(scores[input]['r2_train'][model_no])\n",
        "  r2s['r2_test'].append(scores[input]['r2_test'][model_no])\n",
        "  r2s['ar2_train'].append(scores[input]['adj_r2_train'][model_no])\n",
        "  r2s['ar2_test'].append(scores[input]['adj_r2_test'][model_no])\n",
        "r2s_df = pd.DataFrame(r2s, index = input_names.keys())"
      ]
    },
    {
      "cell_type": "code",
      "execution_count": null,
      "metadata": {
        "id": "IuyEbUUmbZhe",
        "outputId": "2669f19a-1d03-413b-85e2-c2e848df93e0"
      },
      "outputs": [
        {
          "data": {
            "text/plain": [
              "<AxesSubplot:>"
            ]
          },
          "execution_count": 155,
          "metadata": {},
          "output_type": "execute_result"
        },
        {
          "data": {
            "image/png": "[encoded data removed]",
            "text/plain": [
              "<Figure size 432x288 with 1 Axes>"
            ]
          },
          "metadata": {},
          "output_type": "display_data"
        }
      ],
      "source": [
        "r2s_df.T.iloc[:,:4].plot(marker = 'o')"
      ]
    },
    {
      "cell_type": "code",
      "execution_count": null,
      "metadata": {
        "id": "MFD7u3plbbn9",
        "outputId": "a7a77fac-aace-4053-f5e5-a322906c6550"
      },
      "outputs": [
        {
          "data": {
            "text/html": [
              "<div>\n",
              "<style scoped>\n",
              "    .dataframe tbody tr th:only-of-type {\n",
              "        vertical-align: middle;\n",
              "    }\n",
              "\n",
              "    .dataframe tbody tr th {\n",
              "        vertical-align: top;\n",
              "    }\n",
              "\n",
              "    .dataframe thead th {\n",
              "        text-align: right;\n",
              "    }\n",
              "</style>\n",
              "<table border=\"1\" class=\"dataframe\">\n",
              "  <thead>\n",
              "    <tr style=\"text-align: right;\">\n",
              "      <th></th>\n",
              "      <th>s1</th>\n",
              "      <th>s2</th>\n",
              "      <th>s1t</th>\n",
              "      <th>s2t</th>\n",
              "      <th>s1s</th>\n",
              "      <th>s2s</th>\n",
              "      <th>s1ts</th>\n",
              "      <th>s2ts</th>\n",
              "    </tr>\n",
              "  </thead>\n",
              "  <tbody>\n",
              "    <tr>\n",
              "      <th>r2_train</th>\n",
              "      <td>0.914056</td>\n",
              "      <td>0.910693</td>\n",
              "      <td>0.912219</td>\n",
              "      <td>0.912271</td>\n",
              "      <td>0.911841</td>\n",
              "      <td>0.911172</td>\n",
              "      <td>0.910857</td>\n",
              "      <td>0.913917</td>\n",
              "    </tr>\n",
              "    <tr>\n",
              "      <th>r2_test</th>\n",
              "      <td>0.800450</td>\n",
              "      <td>0.797534</td>\n",
              "      <td>0.810455</td>\n",
              "      <td>0.806059</td>\n",
              "      <td>0.799580</td>\n",
              "      <td>0.798504</td>\n",
              "      <td>0.810605</td>\n",
              "      <td>0.806438</td>\n",
              "    </tr>\n",
              "    <tr>\n",
              "      <th>ar2_train</th>\n",
              "      <td>0.914055</td>\n",
              "      <td>0.910692</td>\n",
              "      <td>0.912218</td>\n",
              "      <td>0.912270</td>\n",
              "      <td>0.911840</td>\n",
              "      <td>0.911171</td>\n",
              "      <td>0.910856</td>\n",
              "      <td>0.913916</td>\n",
              "    </tr>\n",
              "    <tr>\n",
              "      <th>ar2_test</th>\n",
              "      <td>0.800441</td>\n",
              "      <td>0.797526</td>\n",
              "      <td>0.810447</td>\n",
              "      <td>0.806051</td>\n",
              "      <td>0.799571</td>\n",
              "      <td>0.798495</td>\n",
              "      <td>0.810596</td>\n",
              "      <td>0.806429</td>\n",
              "    </tr>\n",
              "  </tbody>\n",
              "</table>\n",
              "</div>"
            ],
            "text/plain": [
              "                 s1        s2       s1t       s2t       s1s       s2s  \\\n",
              "r2_train   0.914056  0.910693  0.912219  0.912271  0.911841  0.911172   \n",
              "r2_test    0.800450  0.797534  0.810455  0.806059  0.799580  0.798504   \n",
              "ar2_train  0.914055  0.910692  0.912218  0.912270  0.911840  0.911171   \n",
              "ar2_test   0.800441  0.797526  0.810447  0.806051  0.799571  0.798495   \n",
              "\n",
              "               s1ts      s2ts  \n",
              "r2_train   0.910857  0.913917  \n",
              "r2_test    0.810605  0.806438  \n",
              "ar2_train  0.910856  0.913916  \n",
              "ar2_test   0.810596  0.806429  "
            ]
          },
          "execution_count": 149,
          "metadata": {},
          "output_type": "execute_result"
        }
      ],
      "source": [
        "r2s_df.T"
      ]
    },
    {
      "cell_type": "markdown",
      "metadata": {
        "id": "SUDe7Y_xMO3X"
      },
      "source": [
        "### pickle"
      ]
    },
    {
      "cell_type": "code",
      "execution_count": null,
      "metadata": {
        "id": "5IUCnTY93qHB"
      },
      "outputs": [],
      "source": [
        "import pickle\n",
        "\n",
        "with open('scores.pkl', 'wb') as f:\n",
        "    pickle.dump(scores, f)\n",
        "\n",
        "# with open('scores.pkl', 'rb') as f:\n",
        "#     scores = pickle.load(f)"
      ]
    },
    {
      "cell_type": "code",
      "execution_count": null,
      "metadata": {
        "colab": {
          "base_uri": "https://localhost:8080/"
        },
        "id": "Uk9wI8xVFwbf",
        "outputId": "29f1004f-9d61-48eb-8be1-4ac15caefafa"
      },
      "outputs": [
        {
          "data": {
            "text/plain": [
              "{'s1': {'mse_train': [99818.61080110115,\n",
              "   42639.15363290945,\n",
              "   73858.78315117511,\n",
              "   99818.61080189396,\n",
              "   99818.61089597101,\n",
              "   99818.62244110637,\n",
              "   17185.15128871975],\n",
              "  'rmse_train': [315.94083433627435,\n",
              "   206.49250260701828,\n",
              "   271.7697244933201,\n",
              "   315.940834337529,\n",
              "   315.940834486413,\n",
              "   315.94085275745266,\n",
              "   131.09214808187312],\n",
              "  'r2_train': [0.5008032370898652,\n",
              "   0.7867599308791272,\n",
              "   0.6306293469159211,\n",
              "   0.5008032370859004,\n",
              "   0.5008032366154174,\n",
              "   0.5008031788777454,\n",
              "   0.9140563886373463],\n",
              "  'adj_r2_train': [0.5007978028522818,\n",
              "   0.786757609555585,\n",
              "   0.6305988524859141,\n",
              "   0.5007978028483169,\n",
              "   0.5007978023778288,\n",
              "   0.5007977446395283,\n",
              "   0.914055453058357],\n",
              "  'mse_test': [99865.16601996575,\n",
              "   56123.57146794749,\n",
              "   73871.16394818535,\n",
              "   99865.16843789193,\n",
              "   99865.20486441896,\n",
              "   99865.60578208616,\n",
              "   39874.550178529906],\n",
              "  'rmse_test': [316.0145028633429,\n",
              "   236.90413982863933,\n",
              "   271.7925016408388,\n",
              "   316.01450668899986,\n",
              "   316.01456432325864,\n",
              "   316.01519865678324,\n",
              "   199.6861291590628],\n",
              "  'r2_test': [0.5002293504974382,\n",
              "   0.7191321570593311,\n",
              "   0.6303151433352268,\n",
              "   0.5002293383970373,\n",
              "   0.500229156102151,\n",
              "   0.5002271497280477,\n",
              "   0.8004496398938323],\n",
              "  'adj_r2_test': [0.5002075878274064,\n",
              "   0.7191199265808215,\n",
              "   0.63019303150073,\n",
              "   0.5002075757264786,\n",
              "   0.5002073934236542,\n",
              "   0.5002053869621826,\n",
              "   0.8004409504106743]},\n",
              " 's2': {'mse_train': [100508.84445219167,\n",
              "   43473.832572250074,\n",
              "   74910.1923822463,\n",
              "   100508.84445297254,\n",
              "   100508.84454361217,\n",
              "   100508.8557599482,\n",
              "   17881.828910030006],\n",
              "  'rmse_train': [317.03129885263957,\n",
              "   208.50379510275124,\n",
              "   273.69726411173036,\n",
              "   317.03129885387114,\n",
              "   317.0312989968217,\n",
              "   317.03131668645636,\n",
              "   133.7229558080063],\n",
              "  'r2_train': [0.49802883755772864,\n",
              "   0.7828787069331669,\n",
              "   0.6258761449916321,\n",
              "   0.49802883755382876,\n",
              "   0.4980288371011474,\n",
              "   0.4980287810834182,\n",
              "   0.9106928102349121],\n",
              "  'adj_r2_train': [0.49802339546241114,\n",
              "   0.7828763530234989,\n",
              "   0.6258453844540695,\n",
              "   0.49802339545851126,\n",
              "   0.49802339500582504,\n",
              "   0.4980233389874885,\n",
              "   0.9106918420154693],\n",
              "  'mse_test': [99950.4600003539,\n",
              "   56864.71567538632,\n",
              "   74595.29613452095,\n",
              "   99950.46368177937,\n",
              "   99950.49248276283,\n",
              "   99950.83247961168,\n",
              "   40577.199637184945],\n",
              "  'rmse_test': [316.1494266962284,\n",
              "   238.46323757633232,\n",
              "   273.12139450164085,\n",
              "   316.1494325185155,\n",
              "   316.1494780681487,\n",
              "   316.1500157830325,\n",
              "   201.43783070015658],\n",
              "  'r2_test': [0.5012830842690563,\n",
              "   0.7162654817652135,\n",
              "   0.6277962501011707,\n",
              "   0.5012830659000649,\n",
              "   0.5012829221934961,\n",
              "   0.5012812257312707,\n",
              "   0.7975343399921923],\n",
              "  'adj_r2_test': [0.5012614563269053,\n",
              "   0.7162531770016232,\n",
              "   0.6276738093459298,\n",
              "   0.5012614379571174,\n",
              "   0.5012612942443164,\n",
              "   0.5012595977085201,\n",
              "   0.7975255596291364]},\n",
              " 's1t': {'mse_train': [28.382061468846413,\n",
              "   13.934447599992232,\n",
              "   23.40526234504837,\n",
              "   28.382062232527204,\n",
              "   28.382061487294575,\n",
              "   28.382066585587395,\n",
              "   5.94430382949715],\n",
              "  'rmse_train': [5.327481719240941,\n",
              "   3.732887300735482,\n",
              "   4.837898546378208,\n",
              "   5.3274817909146535,\n",
              "   5.327481720972356,\n",
              "   5.327482199462275,\n",
              "   2.438094302831035],\n",
              "  'r2_train': [0.5808733133887154,\n",
              "   0.7942256992588815,\n",
              "   0.6543672464836394,\n",
              "   0.5808733021112048,\n",
              "   0.5808733131162858,\n",
              "   0.5808732378282175,\n",
              "   0.9122186254510577],\n",
              "  'adj_r2_train': [0.5808687507910348,\n",
              "   0.7942234592074191,\n",
              "   0.6543387118024939,\n",
              "   0.5808687395134016,\n",
              "   0.5808687505186023,\n",
              "   0.5808686752297145,\n",
              "   0.912217669866246],\n",
              "  'mse_test': [28.345811599282293,\n",
              "   18.136208271769902,\n",
              "   23.330100827355782,\n",
              "   28.34583346674031,\n",
              "   28.345815605407573,\n",
              "   28.345879480231144,\n",
              "   12.828545889939221],\n",
              "  'rmse_test': [5.324078474185208,\n",
              "   4.258662732803562,\n",
              "   4.830124307650454,\n",
              "   5.32408052782265,\n",
              "   5.3240788504123016,\n",
              "   5.324084849082624,\n",
              "   3.581695951632302],\n",
              "  'r2_test': [0.5811830066063757,\n",
              "   0.7320326428707522,\n",
              "   0.655291482840073,\n",
              "   0.5811826835087995,\n",
              "   0.5811829474147967,\n",
              "   0.5811820036470916,\n",
              "   0.8104547826962725],\n",
              "  'adj_r2_test': [0.5811647690887463,\n",
              "   0.7320209741479524,\n",
              "   0.6551776210233441,\n",
              "   0.5811644459771007,\n",
              "   0.5811647098945898,\n",
              "   0.581163766085788,\n",
              "   0.8104465288902027]},\n",
              " 's2t': {'mse_train': [29.10313834668261,\n",
              "   14.234464060098777,\n",
              "   24.46252618482707,\n",
              "   29.10313910235598,\n",
              "   29.10313836323419,\n",
              "   29.103143126251418,\n",
              "   5.983698648993738],\n",
              "  'rmse_train': [5.394732462938511,\n",
              "   3.7728588709490283,\n",
              "   4.945960592728886,\n",
              "   5.394732532976587,\n",
              "   5.394732464472561,\n",
              "   5.394732905923278,\n",
              "   2.4461599802534866],\n",
              "  'r2_train': [0.5733096772126378,\n",
              "   0.7913040170390773,\n",
              "   0.6413471609261016,\n",
              "   0.5733096661334715,\n",
              "   0.5733096769699699,\n",
              "   0.5733096071378667,\n",
              "   0.9122711001958841],\n",
              "  'adj_r2_train': [0.5733050512707882,\n",
              "   0.7913017544719885,\n",
              "   0.6413176724185375,\n",
              "   0.5733050401915017,\n",
              "   0.5733050510281177,\n",
              "   0.5733049811952574,\n",
              "   0.9122701490873931],\n",
              "  'mse_test': [28.937387649962336,\n",
              "   18.539223621770308,\n",
              "   24.399843834499837,\n",
              "   28.937430670459634,\n",
              "   28.937393277790893,\n",
              "   28.937492406771764,\n",
              "   13.231804312866048],\n",
              "  'rmse_test': [5.379348255129272,\n",
              "   4.305719872654317,\n",
              "   4.939619806675392,\n",
              "   5.3793522537996745,\n",
              "   5.379348778225008,\n",
              "   5.379357992062971,\n",
              "   3.637554716133635],\n",
              "  'r2_test': [0.5758591738777713,\n",
              "   0.7282670530692279,\n",
              "   0.6423668215526843,\n",
              "   0.5758585433181131,\n",
              "   0.5758590913896116,\n",
              "   0.575857638437177,\n",
              "   0.8060589131184418],\n",
              "  'adj_r2_test': [0.5758407800897086,\n",
              "   0.7282552687798418,\n",
              "   0.6422491739564948,\n",
              "   0.5758401495027049,\n",
              "   0.5758406975979716,\n",
              "   0.5758392445825266,\n",
              "   0.806050502442013]},\n",
              " 's1s': {'mse_train': [99818.61080110101,\n",
              "   42639.09986338968,\n",
              "   73854.76032995334,\n",
              "   99818.61080110265,\n",
              "   99818.61081594709,\n",
              "   99818.61081573296,\n",
              "   17628.177261370154],\n",
              "  'rmse_train': [315.9408343362741,\n",
              "   206.49237240970834,\n",
              "   271.76232323475847,\n",
              "   315.94083433627674,\n",
              "   315.94083435976916,\n",
              "   315.94083435943026,\n",
              "   132.7711461928764],\n",
              "  'r2_train': [0.500803237089866,\n",
              "   0.7867601997825912,\n",
              "   0.6306494652016352,\n",
              "   0.5008032370898577,\n",
              "   0.5008032370156201,\n",
              "   0.500803237016691,\n",
              "   0.9118407984817902],\n",
              "  'adj_r2_train': [0.5007978028522826,\n",
              "   0.7867578784619763,\n",
              "   0.6306189724325497,\n",
              "   0.5007978028522744,\n",
              "   0.500797802778036,\n",
              "   0.5007978027791069,\n",
              "   0.911839838783968],\n",
              "  'mse_test': [99865.16601996559,\n",
              "   56131.507274695316,\n",
              "   73868.43596052274,\n",
              "   99865.1661198087,\n",
              "   99865.17004426612,\n",
              "   99865.17002237185,\n",
              "   40048.3100160989],\n",
              "  'rmse_test': [316.0145028633426,\n",
              "   236.92088821945464,\n",
              "   271.78748308287254,\n",
              "   316.01450302131497,\n",
              "   316.01450923061446,\n",
              "   316.01450919597323,\n",
              "   200.120738595726],\n",
              "  'r2_test': [0.500229350497439,\n",
              "   0.719092442677923,\n",
              "   0.6303287954245419,\n",
              "   0.5002293499977787,\n",
              "   0.5002293303580112,\n",
              "   0.5002293304675802,\n",
              "   0.7995800667449532],\n",
              "  'adj_r2_test': [0.500207587827407,\n",
              "   0.7190802104700382,\n",
              "   0.6302066880995123,\n",
              "   0.500207587327725,\n",
              "   0.5002075676871023,\n",
              "   0.5002075677966762,\n",
              "   0.799571339395959]},\n",
              " 's2s': {'mse_train': [100508.84445219176,\n",
              "   43473.91143838443,\n",
              "   74910.19412333179,\n",
              "   100508.84446759638,\n",
              "   100508.84446632248,\n",
              "   100508.84446623342,\n",
              "   17785.97730897392],\n",
              "  'rmse_train': [317.03129885263974,\n",
              "   208.50398422664355,\n",
              "   273.69726729240796,\n",
              "   317.03129887693484,\n",
              "   317.0312988749257,\n",
              "   317.03129887478525,\n",
              "   133.36407803068232],\n",
              "  'r2_train': [0.4980288375577282,\n",
              "   0.7828783130521572,\n",
              "   0.6258761362961316,\n",
              "   0.49802883748079285,\n",
              "   0.4980288374871552,\n",
              "   0.49802883748759996,\n",
              "   0.9111715217340476],\n",
              "  'adj_r2_train': [0.4980233954624107,\n",
              "   0.782875959138219,\n",
              "   0.6258453757578539,\n",
              "   0.4980233953854746,\n",
              "   0.49802339539183704,\n",
              "   0.4980233953922818,\n",
              "   0.9111705587045316],\n",
              "  'mse_test': [99950.46000035397,\n",
              "   56878.36555322126,\n",
              "   74595.2644184616,\n",
              "   99950.47411145219,\n",
              "   99950.47073266884,\n",
              "   99950.47070606952,\n",
              "   40382.91143367289],\n",
              "  'rmse_test': [316.1494266962285,\n",
              "   238.4918563666719,\n",
              "   273.12133643943235,\n",
              "   316.1494490133617,\n",
              "   316.1494436697127,\n",
              "   316.14944362764504,\n",
              "   200.95499852870765],\n",
              "  'r2_test': [0.501283084269056,\n",
              "   0.7161973737747759,\n",
              "   0.6277964083529215,\n",
              "   0.5012830138597415,\n",
              "   0.5012830307186575,\n",
              "   0.5012830308513785,\n",
              "   0.7985037683831981],\n",
              "  'adj_r2_test': [0.5012614563269051,\n",
              "   0.7161850660575346,\n",
              "   0.6276739676497394,\n",
              "   0.5012613859145372,\n",
              "   0.5012614027741843,\n",
              "   0.5012614029069109,\n",
              "   0.7984950300615099]},\n",
              " 's1ts': {'mse_train': [28.382061468846445,\n",
              "   13.934447599992232,\n",
              "   23.404712895225277,\n",
              "   28.38206147032988,\n",
              "   28.382061473758874,\n",
              "   28.382061473994177,\n",
              "   6.03648689643983],\n",
              "  'rmse_train': [5.327481719240944,\n",
              "   3.732887300735482,\n",
              "   4.837841760043964,\n",
              "   5.3274817193801685,\n",
              "   5.32748171970199,\n",
              "   5.327481719724074,\n",
              "   2.4569263107467894],\n",
              "  'r2_train': [0.580873313388715,\n",
              "   0.7942256992588815,\n",
              "   0.6543753603792444,\n",
              "   0.5808733133668086,\n",
              "   0.5808733133161716,\n",
              "   0.5808733133126968,\n",
              "   0.9108573295687357],\n",
              "  'adj_r2_train': [0.5808687507910344,\n",
              "   0.7942234592074191,\n",
              "   0.6543468263679644,\n",
              "   0.5808687507691278,\n",
              "   0.5808687507184903,\n",
              "   0.5808687507150154,\n",
              "   0.910856359164907],\n",
              "  'mse_test': [28.345811599282303,\n",
              "   18.13974612977955,\n",
              "   23.328921028800817,\n",
              "   28.345812904559228,\n",
              "   28.345813015442424,\n",
              "   28.345813138308003,\n",
              "   12.818408699167389],\n",
              "  'rmse_test': [5.324078474185209,\n",
              "   4.259078084489594,\n",
              "   4.830002176894004,\n",
              "   5.3240785967676345,\n",
              "   5.324078607181004,\n",
              "   5.324078618719675,\n",
              "   3.5802805335849577],\n",
              "  'r2_test': [0.5811830066063755,\n",
              "   0.7319803700667274,\n",
              "   0.6553089146811713,\n",
              "   0.5811829873205576,\n",
              "   0.5811829856822286,\n",
              "   0.5811829838668566,\n",
              "   0.8106045624175426],\n",
              "  'adj_r2_test': [0.581164769088746,\n",
              "   0.7319686990676919,\n",
              "   0.6551950586224118,\n",
              "   0.5811647498020884,\n",
              "   0.581164748163688,\n",
              "   0.581164746348237,\n",
              "   0.810596315133678]},\n",
              " 's2ts': {'mse_train': [29.103138346682655,\n",
              "   14.23381142923758,\n",
              "   24.462528566040817,\n",
              "   29.10313834804623,\n",
              "   29.103138351297666,\n",
              "   29.10313835155639,\n",
              "   5.871411588867324],\n",
              "  'rmse_train': [5.3947324629385145,\n",
              "   3.7727723797278814,\n",
              "   4.945960833451961,\n",
              "   5.394732463064895,\n",
              "   5.394732463366248,\n",
              "   5.394732463390227,\n",
              "   2.4230995829448125],\n",
              "  'r2_train': [0.5733096772126371,\n",
              "   0.7913135854666986,\n",
              "   0.641347126014373,\n",
              "   0.5733096771926454,\n",
              "   0.573309677144975,\n",
              "   0.5733096771411819,\n",
              "   0.9139173763245768],\n",
              "  'adj_r2_train': [0.5733050512707876,\n",
              "   0.7913113230033455,\n",
              "   0.6413176375039387,\n",
              "   0.5733050512507956,\n",
              "   0.5733050512031247,\n",
              "   0.5733050511993314,\n",
              "   0.9139164430641064],\n",
              "  'mse_test': [28.93738764996237,\n",
              "   18.529300005850118,\n",
              "   24.39984273888776,\n",
              "   28.937389121710726,\n",
              "   28.93739000572752,\n",
              "   28.937390145086415,\n",
              "   13.205973389033094],\n",
              "  'rmse_test': [5.379348255129274,\n",
              "   4.304567342468941,\n",
              "   4.939619695774945,\n",
              "   5.379348391925432,\n",
              "   5.379348474093077,\n",
              "   5.379348487046216,\n",
              "   3.6340023925464187],\n",
              "  'r2_test': [0.5758591738777707,\n",
              "   0.7284125054060258,\n",
              "   0.6423668376112801,\n",
              "   0.5758591523060737,\n",
              "   0.5758591393488703,\n",
              "   0.5758591373062605,\n",
              "   0.806437521910173],\n",
              "  'adj_r2_test': [0.5758407800897081,\n",
              "   0.7284007274244961,\n",
              "   0.6422491900203733,\n",
              "   0.5758407585170755,\n",
              "   0.5758407455593102,\n",
              "   0.5758407435166117,\n",
              "   0.8064291276529367]}}"
            ]
          },
          "execution_count": 158,
          "metadata": {},
          "output_type": "execute_result"
        }
      ],
      "source": []
    },
    {
      "cell_type": "code",
      "execution_count": null,
      "metadata": {
        "id": "zPbUaA_EdhPZ"
      },
      "outputs": [],
      "source": []
    }
  ],
  "metadata": {
    "colab": {
      "collapsed_sections": [
        "y6JICR7Urns9",
        "l6bADowIf-a9",
        "BxLmmEiSgCnv",
        "Sw74RoOcgH9E",
        "qLJllDLYgLl8",
        "r9QSrKmDg9cM",
        "3RUVNnTEJJmd",
        "1KhsmqJ8T7fT",
        "JLAlmgBaj5G6",
        "-ZY-DXbqp1m8",
        "Jw7e1sKFsCfh",
        "wJ3UufU1VKDt",
        "muDom3oE3Y10",
        "8l3gRJ52L6Oz",
        "sW0VGVFMFTg1",
        "fni_6-9RKHkV"
      ],
      "provenance": [],
      "include_colab_link": true
    },
    "kernelspec": {
      "display_name": "Python 3 (ipykernel)",
      "language": "python",
      "name": "python3"
    },
    "language_info": {
      "codemirror_mode": {
        "name": "ipython",
        "version": 3
      },
      "file_extension": ".py",
      "mimetype": "text/x-python",
      "name": "python",
      "nbconvert_exporter": "python",
      "pygments_lexer": "ipython3",
      "version": "3.9.12"
    }
  },
  "nbformat": 4,
  "nbformat_minor": 0
}